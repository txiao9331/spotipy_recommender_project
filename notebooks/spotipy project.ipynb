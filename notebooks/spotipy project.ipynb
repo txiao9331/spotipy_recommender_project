{
 "cells": [
  {
   "cell_type": "code",
   "execution_count": 40,
   "metadata": {},
   "outputs": [],
   "source": [
    "import pandas as pd\n",
    "import spotipy\n",
    "import json\n",
    "from spotipy.oauth2 import SpotifyClientCredentials\n",
    "from IPython.display import IFrame\n",
    "\n",
    "sp = spotipy.Spotify(auth_manager=SpotifyClientCredentials())\n",
    "\n",
    "from time import sleep\n",
    "\n",
    "from sklearn.cluster import KMeans\n",
    "from sklearn.preprocessing import MinMaxScaler\n",
    "import pickle\n",
    "import melo_func as mf"
   ]
  },
  {
   "cell_type": "markdown",
   "metadata": {},
   "source": [
    "# 1. Search for user's input"
   ]
  },
  {
   "cell_type": "code",
   "execution_count": null,
   "metadata": {},
   "outputs": [],
   "source": [
    "# def find_song(song):\n",
    "#     # search once for 5 songs \n",
    "#     song_results = sp.search(q= song, limit=5,market=\"GB\") \n",
    "#     # empty list to store the info\n",
    "#     track_info = []\n",
    "#     # add infos into the list\n",
    "#     for track in song_results['tracks']['items']:\n",
    "#         track_id = track['id']\n",
    "#         track_name = track['name']\n",
    "#         artist_names = ', '.join([artist['name'] for artist in track['artists']])\n",
    "#         track_info.append({'track_id': track_id, 'track_name':track_name,'artist_names': artist_names})\n",
    "#         # create the df of tracks info\n",
    "#         track_df = pd.DataFrame(track_info)\n",
    "#     return track_df"
   ]
  },
  {
   "cell_type": "code",
   "execution_count": null,
   "metadata": {},
   "outputs": [],
   "source": [
    "# def find_song2(song):\n",
    "#     counter = 0\n",
    "#     retry = True\n",
    "    \n",
    "#     while retry:\n",
    "#         # search once for all the songs\n",
    "#         song_results = sp.search(q=song, market=\"GB\")\n",
    "\n",
    "#         track_info = []\n",
    "#         # store info\n",
    "#         for track in song_results['tracks']['items']:\n",
    "#             counter += 1  # add No. of track\n",
    "#             track_id = track['id']\n",
    "#             track_name = track['name']\n",
    "#             artist_names = ', '.join([artist['name'] for artist in track['artists']])\n",
    "#             track_info.append({'track_id': track_id, 'track_name':track_name,'artist_names': artist_names,'number': counter})\n",
    "        \n",
    "#         # create dataframe\n",
    "#         track_df = pd.DataFrame(track_info)\n",
    "        \n",
    "#         # display 5 results\n",
    "#         display(track_df.head[:5])\n",
    "        \n",
    "#         # ask user if satisfied\n",
    "#         user_input = input(\"Do you find the song? (y/n)\").lower()\n",
    "#         if user_input == 'n':\n",
    "#             track_info = []  # empty the result and try again\n",
    "#             retry = True\n",
    "#         elif user_input == 'y':\n",
    "#             break  \n",
    "#     return "
   ]
  },
  {
   "cell_type": "code",
   "execution_count": 2,
   "metadata": {},
   "outputs": [],
   "source": [
    "# def find_song3(song):\n",
    "#     counter = 0\n",
    "#     retry = True\n",
    "#     offset = 0\n",
    "#     # all_track_info = []\n",
    "    \n",
    "#     while retry:\n",
    "#         # search for songs with offset\n",
    "#         song_results = sp.search(q=song, market=\"GB\", limit=5, offset=offset)\n",
    "\n",
    "#         track_info = []\n",
    "#         # store info\n",
    "#         for track in song_results['tracks']['items']:\n",
    "#             counter += 1  # add No. of track\n",
    "#             track_id = track['id']\n",
    "#             track_name = track['name']\n",
    "#             artist_names = ', '.join([artist['name'] for artist in track['artists']])\n",
    "#             track_info.append({'track_id': track_id, 'track_name':track_name,'artist_names': artist_names,'number': counter})\n",
    "        \n",
    "#         # create dataframe\n",
    "#         track_df = pd.DataFrame(track_info)\n",
    "        \n",
    "#         # display results\n",
    "#         print(f\"Results {offset+1}-{offset+len(track_df)}:\")\n",
    "#         display(track_df)\n",
    "        \n",
    "#         # ask user if satisfied\n",
    "#         user_input = input(\"Do you find the song? (y/n)\").lower()\n",
    "#         if user_input == 'n':\n",
    "#             offset += 5  # adjust offset for next search\n",
    "#             retry = True\n",
    "#         elif user_input == 'y':\n",
    "#             break\n",
    "#     return track_df\n"
   ]
  },
  {
   "cell_type": "markdown",
   "metadata": {},
   "source": [
    "## 1.1 Request user to input the name of a song"
   ]
  },
  {
   "cell_type": "code",
   "execution_count": 19,
   "metadata": {},
   "outputs": [
    {
     "data": {
      "text/plain": [
       "'flowers'"
      ]
     },
     "execution_count": 19,
     "metadata": {},
     "output_type": "execute_result"
    }
   ],
   "source": [
    "song = input('Please write a song that you like : ')\n",
    "song"
   ]
  },
  {
   "cell_type": "markdown",
   "metadata": {},
   "source": [
    "## 1.2 finding matching tracks on spotify"
   ]
  },
  {
   "cell_type": "code",
   "execution_count": 55,
   "metadata": {},
   "outputs": [
    {
     "data": {
      "text/plain": [
       "<module 'melo_func' from 'c:\\\\Users\\\\54189\\\\ironhack_262\\\\labs\\\\week_6_flask\\\\spotipy_project\\\\notebooks\\\\melo_func.py'>"
      ]
     },
     "execution_count": 55,
     "metadata": {},
     "output_type": "execute_result"
    }
   ],
   "source": [
    "import importlib # for reloading the module to reflect the changes\n",
    "# import the functions defined\n",
    "importlib.reload(mf)"
   ]
  },
  {
   "cell_type": "code",
   "execution_count": 29,
   "metadata": {},
   "outputs": [
    {
     "name": "stdout",
     "output_type": "stream",
     "text": [
      "Results 1-5:\n"
     ]
    },
    {
     "data": {
      "text/html": [
       "<div>\n",
       "<style scoped>\n",
       "    .dataframe tbody tr th:only-of-type {\n",
       "        vertical-align: middle;\n",
       "    }\n",
       "\n",
       "    .dataframe tbody tr th {\n",
       "        vertical-align: top;\n",
       "    }\n",
       "\n",
       "    .dataframe thead th {\n",
       "        text-align: right;\n",
       "    }\n",
       "</style>\n",
       "<table border=\"1\" class=\"dataframe\">\n",
       "  <thead>\n",
       "    <tr style=\"text-align: right;\">\n",
       "      <th></th>\n",
       "      <th>track_id</th>\n",
       "      <th>track_name</th>\n",
       "      <th>artist_names</th>\n",
       "      <th>number</th>\n",
       "    </tr>\n",
       "  </thead>\n",
       "  <tbody>\n",
       "    <tr>\n",
       "      <th>0</th>\n",
       "      <td>7DSAEUvxU8FajXtRloy8M0</td>\n",
       "      <td>Flowers</td>\n",
       "      <td>Miley Cyrus</td>\n",
       "      <td>1</td>\n",
       "    </tr>\n",
       "    <tr>\n",
       "      <th>1</th>\n",
       "      <td>2eykhwXDu6k3DqvY0LBInw</td>\n",
       "      <td>Flowers</td>\n",
       "      <td>Lauren Spencer Smith</td>\n",
       "      <td>2</td>\n",
       "    </tr>\n",
       "    <tr>\n",
       "      <th>2</th>\n",
       "      <td>1IqANTbvKLojRoomq685LA</td>\n",
       "      <td>Flowers - Sunship Radio Edit</td>\n",
       "      <td>Sweet Female Attitude, Sunship</td>\n",
       "      <td>3</td>\n",
       "    </tr>\n",
       "    <tr>\n",
       "      <th>3</th>\n",
       "      <td>6Z165JvPnS8PYvGW8oLGLc</td>\n",
       "      <td>Flowers</td>\n",
       "      <td>Lauren Spencer Smith</td>\n",
       "      <td>4</td>\n",
       "    </tr>\n",
       "    <tr>\n",
       "      <th>4</th>\n",
       "      <td>5aYWnrsYvJk8NT7PmUcxVN</td>\n",
       "      <td>Flowers (feat. Jaykae and MALIKA)</td>\n",
       "      <td>Nathan Dawe, Jaykae, Malika</td>\n",
       "      <td>5</td>\n",
       "    </tr>\n",
       "  </tbody>\n",
       "</table>\n",
       "</div>"
      ],
      "text/plain": [
       "                 track_id                         track_name  \\\n",
       "0  7DSAEUvxU8FajXtRloy8M0                            Flowers   \n",
       "1  2eykhwXDu6k3DqvY0LBInw                            Flowers   \n",
       "2  1IqANTbvKLojRoomq685LA       Flowers - Sunship Radio Edit   \n",
       "3  6Z165JvPnS8PYvGW8oLGLc                            Flowers   \n",
       "4  5aYWnrsYvJk8NT7PmUcxVN  Flowers (feat. Jaykae and MALIKA)   \n",
       "\n",
       "                     artist_names  number  \n",
       "0                     Miley Cyrus       1  \n",
       "1            Lauren Spencer Smith       2  \n",
       "2  Sweet Female Attitude, Sunship       3  \n",
       "3            Lauren Spencer Smith       4  \n",
       "4     Nathan Dawe, Jaykae, Malika       5  "
      ]
     },
     "metadata": {},
     "output_type": "display_data"
    }
   ],
   "source": [
    "# ask for user if results satisfy, if not, redo the search \n",
    "# tracks_df = pd.DataFrame()\n",
    "tracks_df = mf.find_song(song)"
   ]
  },
  {
   "cell_type": "code",
   "execution_count": 30,
   "metadata": {},
   "outputs": [
    {
     "data": {
      "text/html": [
       "<div>\n",
       "<style scoped>\n",
       "    .dataframe tbody tr th:only-of-type {\n",
       "        vertical-align: middle;\n",
       "    }\n",
       "\n",
       "    .dataframe tbody tr th {\n",
       "        vertical-align: top;\n",
       "    }\n",
       "\n",
       "    .dataframe thead th {\n",
       "        text-align: right;\n",
       "    }\n",
       "</style>\n",
       "<table border=\"1\" class=\"dataframe\">\n",
       "  <thead>\n",
       "    <tr style=\"text-align: right;\">\n",
       "      <th></th>\n",
       "      <th>track_id</th>\n",
       "      <th>track_name</th>\n",
       "      <th>artist_names</th>\n",
       "      <th>number</th>\n",
       "    </tr>\n",
       "  </thead>\n",
       "  <tbody>\n",
       "    <tr>\n",
       "      <th>0</th>\n",
       "      <td>7DSAEUvxU8FajXtRloy8M0</td>\n",
       "      <td>Flowers</td>\n",
       "      <td>Miley Cyrus</td>\n",
       "      <td>1</td>\n",
       "    </tr>\n",
       "    <tr>\n",
       "      <th>1</th>\n",
       "      <td>2eykhwXDu6k3DqvY0LBInw</td>\n",
       "      <td>Flowers</td>\n",
       "      <td>Lauren Spencer Smith</td>\n",
       "      <td>2</td>\n",
       "    </tr>\n",
       "    <tr>\n",
       "      <th>2</th>\n",
       "      <td>1IqANTbvKLojRoomq685LA</td>\n",
       "      <td>Flowers - Sunship Radio Edit</td>\n",
       "      <td>Sweet Female Attitude, Sunship</td>\n",
       "      <td>3</td>\n",
       "    </tr>\n",
       "    <tr>\n",
       "      <th>3</th>\n",
       "      <td>6Z165JvPnS8PYvGW8oLGLc</td>\n",
       "      <td>Flowers</td>\n",
       "      <td>Lauren Spencer Smith</td>\n",
       "      <td>4</td>\n",
       "    </tr>\n",
       "    <tr>\n",
       "      <th>4</th>\n",
       "      <td>5aYWnrsYvJk8NT7PmUcxVN</td>\n",
       "      <td>Flowers (feat. Jaykae and MALIKA)</td>\n",
       "      <td>Nathan Dawe, Jaykae, Malika</td>\n",
       "      <td>5</td>\n",
       "    </tr>\n",
       "  </tbody>\n",
       "</table>\n",
       "</div>"
      ],
      "text/plain": [
       "                 track_id                         track_name  \\\n",
       "0  7DSAEUvxU8FajXtRloy8M0                            Flowers   \n",
       "1  2eykhwXDu6k3DqvY0LBInw                            Flowers   \n",
       "2  1IqANTbvKLojRoomq685LA       Flowers - Sunship Radio Edit   \n",
       "3  6Z165JvPnS8PYvGW8oLGLc                            Flowers   \n",
       "4  5aYWnrsYvJk8NT7PmUcxVN  Flowers (feat. Jaykae and MALIKA)   \n",
       "\n",
       "                     artist_names  number  \n",
       "0                     Miley Cyrus       1  \n",
       "1            Lauren Spencer Smith       2  \n",
       "2  Sweet Female Attitude, Sunship       3  \n",
       "3            Lauren Spencer Smith       4  \n",
       "4     Nathan Dawe, Jaykae, Malika       5  "
      ]
     },
     "execution_count": 30,
     "metadata": {},
     "output_type": "execute_result"
    }
   ],
   "source": [
    "tracks_df"
   ]
  },
  {
   "cell_type": "markdown",
   "metadata": {},
   "source": [
    "## 1.3 request user to select the track"
   ]
  },
  {
   "cell_type": "code",
   "execution_count": 31,
   "metadata": {},
   "outputs": [],
   "source": [
    "# ask for the input and extract the track_id\n",
    "\n",
    "while True:\n",
    "    track_number = input('Please input the number of the song: ')\n",
    "\n",
    "    if track_number.isdigit():\n",
    "        track_number = int(track_number)\n",
    "        if track_number in tracks_df['number'].values:\n",
    "            # Perform actions for valid track number\n",
    "            track_id = tracks_df.loc[tracks_df['number'] == track_number, 'track_id'].iloc[0]\n",
    "            break  # Exit the loop if the input is valid\n",
    "        else:\n",
    "            print(\"Invalid track number. Please input a number within the range.\")\n",
    "    else:\n",
    "        print(\"Invalid input. Please input a valid number.\")"
   ]
  },
  {
   "cell_type": "code",
   "execution_count": 32,
   "metadata": {},
   "outputs": [
    {
     "data": {
      "text/plain": [
       "(1, '7DSAEUvxU8FajXtRloy8M0')"
      ]
     },
     "execution_count": 32,
     "metadata": {},
     "output_type": "execute_result"
    }
   ],
   "source": [
    "track_number, track_id"
   ]
  },
  {
   "cell_type": "markdown",
   "metadata": {},
   "source": [
    "## 1.4 Embeded track player"
   ]
  },
  {
   "cell_type": "code",
   "execution_count": 33,
   "metadata": {},
   "outputs": [],
   "source": [
    "# def embed_track(track_id):\n",
    "#     return IFrame(src=\"https://open.spotify.com/embed/track/\"+track_id+\"?utm_source=generator\",\n",
    "#             #src=\"spotify:track:3rTIcUMMP2Ez33DfjJlb9e:autoplay:true\",\n",
    "#             width=\"320\",\n",
    "#             height=\"80\",\n",
    "#             frameborder=\"0\",\n",
    "#             allowtransparency=\"true\",\n",
    "#             allow=\"encrypted-media\",\n",
    "#             )"
   ]
  },
  {
   "cell_type": "code",
   "execution_count": 34,
   "metadata": {},
   "outputs": [
    {
     "data": {
      "text/html": [
       "\n",
       "        <iframe\n",
       "            width=\"320\"\n",
       "            height=\"80\"\n",
       "            src=\"https://open.spotify.com/embed/track/7DSAEUvxU8FajXtRloy8M0?utm_source=generator?frameborder=0&allowtransparency=true&allow=encrypted-media\"\n",
       "            frameborder=\"0\"\n",
       "            allowfullscreen\n",
       "            \n",
       "        ></iframe>\n",
       "        "
      ],
      "text/plain": [
       "<IPython.lib.display.IFrame at 0x1b58a62d9d0>"
      ]
     },
     "execution_count": 34,
     "metadata": {},
     "output_type": "execute_result"
    }
   ],
   "source": [
    "mf.embed_track(track_id)"
   ]
  },
  {
   "cell_type": "markdown",
   "metadata": {},
   "source": [
    "# 2. Recommendation 3 songs according to the track features of user's choice"
   ]
  },
  {
   "cell_type": "markdown",
   "metadata": {},
   "source": [
    "## 2.1 features of user's track"
   ]
  },
  {
   "cell_type": "code",
   "execution_count": 41,
   "metadata": {},
   "outputs": [
    {
     "data": {
      "text/plain": [
       "{'danceability': 0.706,\n",
       " 'energy': 0.691,\n",
       " 'key': 0,\n",
       " 'loudness': -4.775,\n",
       " 'mode': 1,\n",
       " 'speechiness': 0.0633,\n",
       " 'acousticness': 0.0584,\n",
       " 'instrumentalness': 6.99e-05,\n",
       " 'liveness': 0.0232,\n",
       " 'valence': 0.632,\n",
       " 'tempo': 118.048,\n",
       " 'type': 'audio_features',\n",
       " 'id': '7DSAEUvxU8FajXtRloy8M0',\n",
       " 'uri': 'spotify:track:7DSAEUvxU8FajXtRloy8M0',\n",
       " 'track_href': 'https://api.spotify.com/v1/tracks/7DSAEUvxU8FajXtRloy8M0',\n",
       " 'analysis_url': 'https://api.spotify.com/v1/audio-analysis/7DSAEUvxU8FajXtRloy8M0',\n",
       " 'duration_ms': 200600,\n",
       " 'time_signature': 4}"
      ]
     },
     "execution_count": 41,
     "metadata": {},
     "output_type": "execute_result"
    }
   ],
   "source": [
    "user = sp.audio_features(track_id)[0]\n",
    "user"
   ]
  },
  {
   "cell_type": "code",
   "execution_count": 42,
   "metadata": {},
   "outputs": [
    {
     "data": {
      "text/html": [
       "<div>\n",
       "<style scoped>\n",
       "    .dataframe tbody tr th:only-of-type {\n",
       "        vertical-align: middle;\n",
       "    }\n",
       "\n",
       "    .dataframe tbody tr th {\n",
       "        vertical-align: top;\n",
       "    }\n",
       "\n",
       "    .dataframe thead th {\n",
       "        text-align: right;\n",
       "    }\n",
       "</style>\n",
       "<table border=\"1\" class=\"dataframe\">\n",
       "  <thead>\n",
       "    <tr style=\"text-align: right;\">\n",
       "      <th></th>\n",
       "      <th>is_explicit</th>\n",
       "      <th>popularity</th>\n",
       "      <th>danceability</th>\n",
       "      <th>energy</th>\n",
       "      <th>key</th>\n",
       "      <th>loudness</th>\n",
       "      <th>mode</th>\n",
       "      <th>speechiness</th>\n",
       "      <th>acousticness</th>\n",
       "      <th>instrumentalness</th>\n",
       "      <th>liveness</th>\n",
       "      <th>valence</th>\n",
       "      <th>tempo</th>\n",
       "      <th>time_signature</th>\n",
       "    </tr>\n",
       "  </thead>\n",
       "  <tbody>\n",
       "    <tr>\n",
       "      <th>0</th>\n",
       "      <td>False</td>\n",
       "      <td>41</td>\n",
       "      <td>0.691</td>\n",
       "      <td>0.519</td>\n",
       "      <td>0</td>\n",
       "      <td>-7.770</td>\n",
       "      <td>1</td>\n",
       "      <td>0.0353</td>\n",
       "      <td>0.686000</td>\n",
       "      <td>0.076700</td>\n",
       "      <td>0.269</td>\n",
       "      <td>0.117</td>\n",
       "      <td>125.008</td>\n",
       "      <td>4</td>\n",
       "    </tr>\n",
       "    <tr>\n",
       "      <th>1</th>\n",
       "      <td>False</td>\n",
       "      <td>81</td>\n",
       "      <td>0.690</td>\n",
       "      <td>0.890</td>\n",
       "      <td>0</td>\n",
       "      <td>-4.866</td>\n",
       "      <td>0</td>\n",
       "      <td>0.0507</td>\n",
       "      <td>0.009030</td>\n",
       "      <td>0.000016</td>\n",
       "      <td>0.188</td>\n",
       "      <td>0.713</td>\n",
       "      <td>124.018</td>\n",
       "      <td>4</td>\n",
       "    </tr>\n",
       "    <tr>\n",
       "      <th>2</th>\n",
       "      <td>False</td>\n",
       "      <td>65</td>\n",
       "      <td>0.587</td>\n",
       "      <td>0.722</td>\n",
       "      <td>2</td>\n",
       "      <td>-6.983</td>\n",
       "      <td>0</td>\n",
       "      <td>0.0709</td>\n",
       "      <td>0.000754</td>\n",
       "      <td>0.668000</td>\n",
       "      <td>0.543</td>\n",
       "      <td>0.466</td>\n",
       "      <td>121.964</td>\n",
       "      <td>4</td>\n",
       "    </tr>\n",
       "  </tbody>\n",
       "</table>\n",
       "</div>"
      ],
      "text/plain": [
       "   is_explicit  popularity  danceability  energy  key  loudness  mode  \\\n",
       "0        False          41         0.691   0.519    0    -7.770     1   \n",
       "1        False          81         0.690   0.890    0    -4.866     0   \n",
       "2        False          65         0.587   0.722    2    -6.983     0   \n",
       "\n",
       "   speechiness  acousticness  instrumentalness  liveness  valence    tempo  \\\n",
       "0       0.0353      0.686000          0.076700     0.269    0.117  125.008   \n",
       "1       0.0507      0.009030          0.000016     0.188    0.713  124.018   \n",
       "2       0.0709      0.000754          0.668000     0.543    0.466  121.964   \n",
       "\n",
       "   time_signature  \n",
       "0               4  \n",
       "1               4  \n",
       "2               4  "
      ]
     },
     "execution_count": 42,
     "metadata": {},
     "output_type": "execute_result"
    }
   ],
   "source": [
    "# compare with the features.df --> user track doesn't have columns: \"is_explicit\" & \"popularity\"\n",
    "\n",
    "features_df = pd.read_csv('../spotipy_data/features.csv')\n",
    "audio_features_model_on = ['is_explicit','popularity', 'danceability', 'energy', 'key',\n",
    "        'loudness', 'mode', 'speechiness', 'acousticness', 'instrumentalness',\n",
    "        'liveness', 'valence', 'tempo', 'time_signature']\n",
    "features_df = features_df[audio_features_model_on]\n",
    "features_df.head(3)"
   ]
  },
  {
   "cell_type": "code",
   "execution_count": 43,
   "metadata": {},
   "outputs": [
    {
     "data": {
      "text/plain": [
       "51.02092965311038"
      ]
     },
     "execution_count": 43,
     "metadata": {},
     "output_type": "execute_result"
    }
   ],
   "source": [
    "features_df['popularity'].mean()"
   ]
  },
  {
   "cell_type": "code",
   "execution_count": 44,
   "metadata": {},
   "outputs": [
    {
     "data": {
      "text/plain": [
       "is_explicit\n",
       "False    32056\n",
       "True      4065\n",
       "Name: count, dtype: int64"
      ]
     },
     "execution_count": 44,
     "metadata": {},
     "output_type": "execute_result"
    }
   ],
   "source": [
    "features_df['is_explicit'].value_counts()"
   ]
  },
  {
   "cell_type": "code",
   "execution_count": 13,
   "metadata": {},
   "outputs": [
    {
     "data": {
      "text/html": [
       "<div>\n",
       "<style scoped>\n",
       "    .dataframe tbody tr th:only-of-type {\n",
       "        vertical-align: middle;\n",
       "    }\n",
       "\n",
       "    .dataframe tbody tr th {\n",
       "        vertical-align: top;\n",
       "    }\n",
       "\n",
       "    .dataframe thead th {\n",
       "        text-align: right;\n",
       "    }\n",
       "</style>\n",
       "<table border=\"1\" class=\"dataframe\">\n",
       "  <thead>\n",
       "    <tr style=\"text-align: right;\">\n",
       "      <th></th>\n",
       "      <th>danceability</th>\n",
       "      <th>energy</th>\n",
       "      <th>key</th>\n",
       "      <th>loudness</th>\n",
       "      <th>mode</th>\n",
       "      <th>speechiness</th>\n",
       "      <th>acousticness</th>\n",
       "      <th>instrumentalness</th>\n",
       "      <th>liveness</th>\n",
       "      <th>valence</th>\n",
       "      <th>tempo</th>\n",
       "      <th>type</th>\n",
       "      <th>id</th>\n",
       "      <th>uri</th>\n",
       "      <th>track_href</th>\n",
       "      <th>analysis_url</th>\n",
       "      <th>duration_ms</th>\n",
       "      <th>time_signature</th>\n",
       "    </tr>\n",
       "  </thead>\n",
       "  <tbody>\n",
       "    <tr>\n",
       "      <th>user_track</th>\n",
       "      <td>0.706</td>\n",
       "      <td>0.691</td>\n",
       "      <td>0</td>\n",
       "      <td>-4.775</td>\n",
       "      <td>1</td>\n",
       "      <td>0.0633</td>\n",
       "      <td>0.0584</td>\n",
       "      <td>0.00007</td>\n",
       "      <td>0.0232</td>\n",
       "      <td>0.632</td>\n",
       "      <td>118.048</td>\n",
       "      <td>audio_features</td>\n",
       "      <td>7DSAEUvxU8FajXtRloy8M0</td>\n",
       "      <td>spotify:track:7DSAEUvxU8FajXtRloy8M0</td>\n",
       "      <td>https://api.spotify.com/v1/tracks/7DSAEUvxU8Fa...</td>\n",
       "      <td>https://api.spotify.com/v1/audio-analysis/7DSA...</td>\n",
       "      <td>200600</td>\n",
       "      <td>4</td>\n",
       "    </tr>\n",
       "  </tbody>\n",
       "</table>\n",
       "</div>"
      ],
      "text/plain": [
       "            danceability  energy  key  loudness  mode  speechiness  \\\n",
       "user_track         0.706   0.691    0    -4.775     1       0.0633   \n",
       "\n",
       "            acousticness  instrumentalness  liveness  valence    tempo  \\\n",
       "user_track        0.0584           0.00007    0.0232    0.632  118.048   \n",
       "\n",
       "                      type                      id  \\\n",
       "user_track  audio_features  7DSAEUvxU8FajXtRloy8M0   \n",
       "\n",
       "                                             uri  \\\n",
       "user_track  spotify:track:7DSAEUvxU8FajXtRloy8M0   \n",
       "\n",
       "                                                   track_href  \\\n",
       "user_track  https://api.spotify.com/v1/tracks/7DSAEUvxU8Fa...   \n",
       "\n",
       "                                                 analysis_url  duration_ms  \\\n",
       "user_track  https://api.spotify.com/v1/audio-analysis/7DSA...       200600   \n",
       "\n",
       "            time_signature  \n",
       "user_track               4  "
      ]
     },
     "execution_count": 13,
     "metadata": {},
     "output_type": "execute_result"
    }
   ],
   "source": [
    "# add two columns\n",
    "user_feature = pd.DataFrame([user],index=[\"user_track\"])\n",
    "user_feature"
   ]
  },
  {
   "cell_type": "code",
   "execution_count": 14,
   "metadata": {},
   "outputs": [],
   "source": [
    "user_feature['is_explicit'] = False\n",
    "user_feature['popularity'] = 51"
   ]
  },
  {
   "cell_type": "code",
   "execution_count": 15,
   "metadata": {},
   "outputs": [
    {
     "data": {
      "text/html": [
       "<div>\n",
       "<style scoped>\n",
       "    .dataframe tbody tr th:only-of-type {\n",
       "        vertical-align: middle;\n",
       "    }\n",
       "\n",
       "    .dataframe tbody tr th {\n",
       "        vertical-align: top;\n",
       "    }\n",
       "\n",
       "    .dataframe thead th {\n",
       "        text-align: right;\n",
       "    }\n",
       "</style>\n",
       "<table border=\"1\" class=\"dataframe\">\n",
       "  <thead>\n",
       "    <tr style=\"text-align: right;\">\n",
       "      <th></th>\n",
       "      <th>is_explicit</th>\n",
       "      <th>popularity</th>\n",
       "      <th>danceability</th>\n",
       "      <th>energy</th>\n",
       "      <th>key</th>\n",
       "      <th>loudness</th>\n",
       "      <th>mode</th>\n",
       "      <th>speechiness</th>\n",
       "      <th>acousticness</th>\n",
       "      <th>instrumentalness</th>\n",
       "      <th>liveness</th>\n",
       "      <th>valence</th>\n",
       "      <th>tempo</th>\n",
       "      <th>time_signature</th>\n",
       "    </tr>\n",
       "  </thead>\n",
       "  <tbody>\n",
       "    <tr>\n",
       "      <th>user_track</th>\n",
       "      <td>False</td>\n",
       "      <td>51</td>\n",
       "      <td>0.706</td>\n",
       "      <td>0.691</td>\n",
       "      <td>0</td>\n",
       "      <td>-4.775</td>\n",
       "      <td>1</td>\n",
       "      <td>0.0633</td>\n",
       "      <td>0.0584</td>\n",
       "      <td>0.00007</td>\n",
       "      <td>0.0232</td>\n",
       "      <td>0.632</td>\n",
       "      <td>118.048</td>\n",
       "      <td>4</td>\n",
       "    </tr>\n",
       "  </tbody>\n",
       "</table>\n",
       "</div>"
      ],
      "text/plain": [
       "            is_explicit  popularity  danceability  energy  key  loudness  \\\n",
       "user_track        False          51         0.706   0.691    0    -4.775   \n",
       "\n",
       "            mode  speechiness  acousticness  instrumentalness  liveness  \\\n",
       "user_track     1       0.0633        0.0584           0.00007    0.0232   \n",
       "\n",
       "            valence    tempo  time_signature  \n",
       "user_track    0.632  118.048               4  "
      ]
     },
     "execution_count": 15,
     "metadata": {},
     "output_type": "execute_result"
    }
   ],
   "source": [
    "# match the columns of user_track to model\n",
    "\n",
    "audio_features_model_on = ['is_explicit','popularity', 'danceability', 'energy', 'key',\n",
    "        'loudness', 'mode', 'speechiness', 'acousticness', 'instrumentalness',\n",
    "        'liveness', 'valence', 'tempo', 'time_signature']\n",
    "user_features = user_feature[audio_features_model_on]\n",
    "user_features"
   ]
  },
  {
   "cell_type": "code",
   "execution_count": 49,
   "metadata": {},
   "outputs": [
    {
     "data": {
      "text/html": [
       "<div>\n",
       "<style scoped>\n",
       "    .dataframe tbody tr th:only-of-type {\n",
       "        vertical-align: middle;\n",
       "    }\n",
       "\n",
       "    .dataframe tbody tr th {\n",
       "        vertical-align: top;\n",
       "    }\n",
       "\n",
       "    .dataframe thead th {\n",
       "        text-align: right;\n",
       "    }\n",
       "</style>\n",
       "<table border=\"1\" class=\"dataframe\">\n",
       "  <thead>\n",
       "    <tr style=\"text-align: right;\">\n",
       "      <th></th>\n",
       "      <th>is_explicit</th>\n",
       "      <th>popularity</th>\n",
       "      <th>danceability</th>\n",
       "      <th>energy</th>\n",
       "      <th>key</th>\n",
       "      <th>loudness</th>\n",
       "      <th>mode</th>\n",
       "      <th>speechiness</th>\n",
       "      <th>acousticness</th>\n",
       "      <th>instrumentalness</th>\n",
       "      <th>liveness</th>\n",
       "      <th>valence</th>\n",
       "      <th>tempo</th>\n",
       "      <th>time_signature</th>\n",
       "    </tr>\n",
       "  </thead>\n",
       "  <tbody>\n",
       "    <tr>\n",
       "      <th>user_track</th>\n",
       "      <td>False</td>\n",
       "      <td>51</td>\n",
       "      <td>0.706</td>\n",
       "      <td>0.691</td>\n",
       "      <td>0</td>\n",
       "      <td>-4.775</td>\n",
       "      <td>1</td>\n",
       "      <td>0.0633</td>\n",
       "      <td>0.0584</td>\n",
       "      <td>0.00007</td>\n",
       "      <td>0.0232</td>\n",
       "      <td>0.632</td>\n",
       "      <td>118.048</td>\n",
       "      <td>4</td>\n",
       "    </tr>\n",
       "  </tbody>\n",
       "</table>\n",
       "</div>"
      ],
      "text/plain": [
       "            is_explicit  popularity  danceability  energy  key  loudness  \\\n",
       "user_track        False          51         0.706   0.691    0    -4.775   \n",
       "\n",
       "            mode  speechiness  acousticness  instrumentalness  liveness  \\\n",
       "user_track     1       0.0633        0.0584           0.00007    0.0232   \n",
       "\n",
       "            valence    tempo  time_signature  \n",
       "user_track    0.632  118.048               4  "
      ]
     },
     "execution_count": 49,
     "metadata": {},
     "output_type": "execute_result"
    }
   ],
   "source": [
    "user_features = mf.user_track_features(track_id)\n",
    "user_features"
   ]
  },
  {
   "cell_type": "code",
   "execution_count": 58,
   "metadata": {},
   "outputs": [
    {
     "data": {
      "text/plain": [
       "47"
      ]
     },
     "execution_count": 58,
     "metadata": {},
     "output_type": "execute_result"
    }
   ],
   "source": [
    "user_cluster = mf.user_predict_km100(user_features)\n",
    "user_cluster"
   ]
  },
  {
   "cell_type": "code",
   "execution_count": 29,
   "metadata": {},
   "outputs": [
    {
     "data": {
      "text/plain": [
       "array([[0., 0., 0., 0., 0., 0., 0., 0., 0., 0., 0., 0., 0., 0.]])"
      ]
     },
     "execution_count": 29,
     "metadata": {},
     "output_type": "execute_result"
    }
   ],
   "source": [
    "# fit the features\n",
    "scaled_features = scaler.fit_transform(user_features)\n",
    "scaled_features"
   ]
  },
  {
   "cell_type": "code",
   "execution_count": 30,
   "metadata": {},
   "outputs": [
    {
     "data": {
      "text/plain": [
       "array([49])"
      ]
     },
     "execution_count": 30,
     "metadata": {},
     "output_type": "execute_result"
    }
   ],
   "source": [
    "# predict\n",
    "user_cluster = km100.predict(scaled_features)\n",
    "user_cluster = user_cluster[0]\n",
    "user_cluster"
   ]
  },
  {
   "cell_type": "code",
   "execution_count": 19,
   "metadata": {},
   "outputs": [
    {
     "data": {
      "text/html": [
       "<div>\n",
       "<style scoped>\n",
       "    .dataframe tbody tr th:only-of-type {\n",
       "        vertical-align: middle;\n",
       "    }\n",
       "\n",
       "    .dataframe tbody tr th {\n",
       "        vertical-align: top;\n",
       "    }\n",
       "\n",
       "    .dataframe thead th {\n",
       "        text-align: right;\n",
       "    }\n",
       "</style>\n",
       "<table border=\"1\" class=\"dataframe\">\n",
       "  <thead>\n",
       "    <tr style=\"text-align: right;\">\n",
       "      <th></th>\n",
       "      <th>artist_id</th>\n",
       "      <th>artist_name</th>\n",
       "      <th>track_id</th>\n",
       "      <th>track_name</th>\n",
       "      <th>album_release_date</th>\n",
       "      <th>album_release_date_precision</th>\n",
       "      <th>is_explicit</th>\n",
       "      <th>duration_ms</th>\n",
       "      <th>popularity</th>\n",
       "      <th>danceability</th>\n",
       "      <th>...</th>\n",
       "      <th>instrumentalness</th>\n",
       "      <th>liveness</th>\n",
       "      <th>valence</th>\n",
       "      <th>tempo</th>\n",
       "      <th>duration_ms.1</th>\n",
       "      <th>time_signature</th>\n",
       "      <th>track_href</th>\n",
       "      <th>album_release_year</th>\n",
       "      <th>album_release_decade</th>\n",
       "      <th>cluster_km100</th>\n",
       "    </tr>\n",
       "  </thead>\n",
       "  <tbody>\n",
       "    <tr>\n",
       "      <th>0</th>\n",
       "      <td>5ypoEsxvCfwoM8dWqpRQhq</td>\n",
       "      <td>Shamoryo</td>\n",
       "      <td>6YLlHjowYdcrULkRk4r4Ga</td>\n",
       "      <td>Jubel</td>\n",
       "      <td>1900-01-01</td>\n",
       "      <td>day</td>\n",
       "      <td>False</td>\n",
       "      <td>197044</td>\n",
       "      <td>41</td>\n",
       "      <td>0.691</td>\n",
       "      <td>...</td>\n",
       "      <td>0.076700</td>\n",
       "      <td>0.269</td>\n",
       "      <td>0.117</td>\n",
       "      <td>125.008</td>\n",
       "      <td>197045</td>\n",
       "      <td>4</td>\n",
       "      <td>https://api.spotify.com/v1/tracks/6YLlHjowYdcr...</td>\n",
       "      <td>1900</td>\n",
       "      <td>1900</td>\n",
       "      <td>43</td>\n",
       "    </tr>\n",
       "    <tr>\n",
       "      <th>1</th>\n",
       "      <td>2WBJQGf1bT1kxuoqziH5g4</td>\n",
       "      <td>Purple Disco Machine</td>\n",
       "      <td>2F2p7b5Xq20mRyEeWYaeUF</td>\n",
       "      <td>Substitution (feat. Julian Perretta)</td>\n",
       "      <td>2023-03-30</td>\n",
       "      <td>day</td>\n",
       "      <td>False</td>\n",
       "      <td>181477</td>\n",
       "      <td>81</td>\n",
       "      <td>0.690</td>\n",
       "      <td>...</td>\n",
       "      <td>0.000016</td>\n",
       "      <td>0.188</td>\n",
       "      <td>0.713</td>\n",
       "      <td>124.018</td>\n",
       "      <td>181478</td>\n",
       "      <td>4</td>\n",
       "      <td>https://api.spotify.com/v1/tracks/2F2p7b5Xq20m...</td>\n",
       "      <td>2023</td>\n",
       "      <td>2020</td>\n",
       "      <td>23</td>\n",
       "    </tr>\n",
       "    <tr>\n",
       "      <th>2</th>\n",
       "      <td>3MyFDtqB80WZvbtCZRsekM</td>\n",
       "      <td>Bakermat</td>\n",
       "      <td>17B9XlyyYDKkTmPay4z02V</td>\n",
       "      <td>Baianá</td>\n",
       "      <td>2020-10-09</td>\n",
       "      <td>day</td>\n",
       "      <td>False</td>\n",
       "      <td>180842</td>\n",
       "      <td>65</td>\n",
       "      <td>0.587</td>\n",
       "      <td>...</td>\n",
       "      <td>0.668000</td>\n",
       "      <td>0.543</td>\n",
       "      <td>0.466</td>\n",
       "      <td>121.964</td>\n",
       "      <td>180843</td>\n",
       "      <td>4</td>\n",
       "      <td>https://api.spotify.com/v1/tracks/17B9XlyyYDKk...</td>\n",
       "      <td>2020</td>\n",
       "      <td>2020</td>\n",
       "      <td>53</td>\n",
       "    </tr>\n",
       "  </tbody>\n",
       "</table>\n",
       "<p>3 rows × 26 columns</p>\n",
       "</div>"
      ],
      "text/plain": [
       "                artist_id           artist_name                track_id  \\\n",
       "0  5ypoEsxvCfwoM8dWqpRQhq              Shamoryo  6YLlHjowYdcrULkRk4r4Ga   \n",
       "1  2WBJQGf1bT1kxuoqziH5g4  Purple Disco Machine  2F2p7b5Xq20mRyEeWYaeUF   \n",
       "2  3MyFDtqB80WZvbtCZRsekM              Bakermat  17B9XlyyYDKkTmPay4z02V   \n",
       "\n",
       "                             track_name album_release_date  \\\n",
       "0                                 Jubel         1900-01-01   \n",
       "1  Substitution (feat. Julian Perretta)         2023-03-30   \n",
       "2                                Baianá         2020-10-09   \n",
       "\n",
       "  album_release_date_precision  is_explicit  duration_ms  popularity  \\\n",
       "0                          day        False       197044          41   \n",
       "1                          day        False       181477          81   \n",
       "2                          day        False       180842          65   \n",
       "\n",
       "   danceability  ...  instrumentalness  liveness  valence    tempo  \\\n",
       "0         0.691  ...          0.076700     0.269    0.117  125.008   \n",
       "1         0.690  ...          0.000016     0.188    0.713  124.018   \n",
       "2         0.587  ...          0.668000     0.543    0.466  121.964   \n",
       "\n",
       "   duration_ms.1  time_signature  \\\n",
       "0         197045               4   \n",
       "1         181478               4   \n",
       "2         180843               4   \n",
       "\n",
       "                                          track_href  album_release_year  \\\n",
       "0  https://api.spotify.com/v1/tracks/6YLlHjowYdcr...                1900   \n",
       "1  https://api.spotify.com/v1/tracks/2F2p7b5Xq20m...                2023   \n",
       "2  https://api.spotify.com/v1/tracks/17B9XlyyYDKk...                2020   \n",
       "\n",
       "   album_release_decade  cluster_km100  \n",
       "0                  1900             43  \n",
       "1                  2020             23  \n",
       "2                  2020             53  \n",
       "\n",
       "[3 rows x 26 columns]"
      ]
     },
     "execution_count": 19,
     "metadata": {},
     "output_type": "execute_result"
    }
   ],
   "source": [
    "tracks_clustered_df = pd.read_csv('../spotipy_data/tracks_clustered_df.csv')\n",
    "tracks_clustered_df.head(3)"
   ]
  },
  {
   "cell_type": "code",
   "execution_count": 20,
   "metadata": {},
   "outputs": [
    {
     "data": {
      "text/html": [
       "<div>\n",
       "<style scoped>\n",
       "    .dataframe tbody tr th:only-of-type {\n",
       "        vertical-align: middle;\n",
       "    }\n",
       "\n",
       "    .dataframe tbody tr th {\n",
       "        vertical-align: top;\n",
       "    }\n",
       "\n",
       "    .dataframe thead th {\n",
       "        text-align: right;\n",
       "    }\n",
       "</style>\n",
       "<table border=\"1\" class=\"dataframe\">\n",
       "  <thead>\n",
       "    <tr style=\"text-align: right;\">\n",
       "      <th></th>\n",
       "      <th>artist_id</th>\n",
       "      <th>artist_name</th>\n",
       "      <th>track_id</th>\n",
       "      <th>track_name</th>\n",
       "      <th>album_release_date</th>\n",
       "      <th>album_release_date_precision</th>\n",
       "      <th>is_explicit</th>\n",
       "      <th>duration_ms</th>\n",
       "      <th>popularity</th>\n",
       "      <th>danceability</th>\n",
       "      <th>...</th>\n",
       "      <th>instrumentalness</th>\n",
       "      <th>liveness</th>\n",
       "      <th>valence</th>\n",
       "      <th>tempo</th>\n",
       "      <th>duration_ms.1</th>\n",
       "      <th>time_signature</th>\n",
       "      <th>track_href</th>\n",
       "      <th>album_release_year</th>\n",
       "      <th>album_release_decade</th>\n",
       "      <th>cluster_km100</th>\n",
       "    </tr>\n",
       "  </thead>\n",
       "  <tbody>\n",
       "    <tr>\n",
       "      <th>72</th>\n",
       "      <td>0GgY7hjMoGDsX8ZDe2mwds</td>\n",
       "      <td>Soolking</td>\n",
       "      <td>30D9x5LFgL2o9xidjX2wtE</td>\n",
       "      <td>Casanova</td>\n",
       "      <td>2023-07-06</td>\n",
       "      <td>day</td>\n",
       "      <td>False</td>\n",
       "      <td>189090</td>\n",
       "      <td>85</td>\n",
       "      <td>0.801</td>\n",
       "      <td>...</td>\n",
       "      <td>0.000029</td>\n",
       "      <td>0.117</td>\n",
       "      <td>0.758</td>\n",
       "      <td>132.044</td>\n",
       "      <td>189091</td>\n",
       "      <td>4</td>\n",
       "      <td>https://api.spotify.com/v1/tracks/30D9x5LFgL2o...</td>\n",
       "      <td>2023</td>\n",
       "      <td>2020</td>\n",
       "      <td>49</td>\n",
       "    </tr>\n",
       "    <tr>\n",
       "      <th>84</th>\n",
       "      <td>0GgY7hjMoGDsX8ZDe2mwds</td>\n",
       "      <td>Soolking</td>\n",
       "      <td>4m4MwgqsswdG67P8SsQEii</td>\n",
       "      <td>Y Dor</td>\n",
       "      <td>2023-07-27</td>\n",
       "      <td>day</td>\n",
       "      <td>False</td>\n",
       "      <td>145620</td>\n",
       "      <td>71</td>\n",
       "      <td>0.505</td>\n",
       "      <td>...</td>\n",
       "      <td>0.000000</td>\n",
       "      <td>0.102</td>\n",
       "      <td>0.636</td>\n",
       "      <td>104.995</td>\n",
       "      <td>145620</td>\n",
       "      <td>3</td>\n",
       "      <td>https://api.spotify.com/v1/tracks/4m4MwgqsswdG...</td>\n",
       "      <td>2023</td>\n",
       "      <td>2020</td>\n",
       "      <td>49</td>\n",
       "    </tr>\n",
       "    <tr>\n",
       "      <th>113</th>\n",
       "      <td>6wH6iStAh4KIaWfuhf0NYM</td>\n",
       "      <td>Manu Chao</td>\n",
       "      <td>6b37xrsNCWYIUphFBazqD6</td>\n",
       "      <td>Me Gustas Tu</td>\n",
       "      <td>2001-06-01</td>\n",
       "      <td>day</td>\n",
       "      <td>False</td>\n",
       "      <td>239986</td>\n",
       "      <td>84</td>\n",
       "      <td>0.657</td>\n",
       "      <td>...</td>\n",
       "      <td>0.494000</td>\n",
       "      <td>0.222</td>\n",
       "      <td>0.908</td>\n",
       "      <td>175.949</td>\n",
       "      <td>239987</td>\n",
       "      <td>4</td>\n",
       "      <td>https://api.spotify.com/v1/tracks/6b37xrsNCWYI...</td>\n",
       "      <td>2001</td>\n",
       "      <td>2000</td>\n",
       "      <td>49</td>\n",
       "    </tr>\n",
       "  </tbody>\n",
       "</table>\n",
       "<p>3 rows × 26 columns</p>\n",
       "</div>"
      ],
      "text/plain": [
       "                  artist_id artist_name                track_id    track_name  \\\n",
       "72   0GgY7hjMoGDsX8ZDe2mwds    Soolking  30D9x5LFgL2o9xidjX2wtE      Casanova   \n",
       "84   0GgY7hjMoGDsX8ZDe2mwds    Soolking  4m4MwgqsswdG67P8SsQEii         Y Dor   \n",
       "113  6wH6iStAh4KIaWfuhf0NYM   Manu Chao  6b37xrsNCWYIUphFBazqD6  Me Gustas Tu   \n",
       "\n",
       "    album_release_date album_release_date_precision  is_explicit  duration_ms  \\\n",
       "72          2023-07-06                          day        False       189090   \n",
       "84          2023-07-27                          day        False       145620   \n",
       "113         2001-06-01                          day        False       239986   \n",
       "\n",
       "     popularity  danceability  ...  instrumentalness  liveness  valence  \\\n",
       "72           85         0.801  ...          0.000029     0.117    0.758   \n",
       "84           71         0.505  ...          0.000000     0.102    0.636   \n",
       "113          84         0.657  ...          0.494000     0.222    0.908   \n",
       "\n",
       "       tempo  duration_ms.1  time_signature  \\\n",
       "72   132.044         189091               4   \n",
       "84   104.995         145620               3   \n",
       "113  175.949         239987               4   \n",
       "\n",
       "                                            track_href  album_release_year  \\\n",
       "72   https://api.spotify.com/v1/tracks/30D9x5LFgL2o...                2023   \n",
       "84   https://api.spotify.com/v1/tracks/4m4MwgqsswdG...                2023   \n",
       "113  https://api.spotify.com/v1/tracks/6b37xrsNCWYI...                2001   \n",
       "\n",
       "     album_release_decade  cluster_km100  \n",
       "72                   2020             49  \n",
       "84                   2020             49  \n",
       "113                  2000             49  \n",
       "\n",
       "[3 rows x 26 columns]"
      ]
     },
     "execution_count": 20,
     "metadata": {},
     "output_type": "execute_result"
    }
   ],
   "source": [
    "tracks_recommendation = tracks_clustered_df[tracks_clustered_df['cluster_km100'] == user_cluster]\n",
    "tracks_recommendation.head(3)"
   ]
  },
  {
   "cell_type": "code",
   "execution_count": 60,
   "metadata": {},
   "outputs": [
    {
     "data": {
      "text/html": [
       "<div>\n",
       "<style scoped>\n",
       "    .dataframe tbody tr th:only-of-type {\n",
       "        vertical-align: middle;\n",
       "    }\n",
       "\n",
       "    .dataframe tbody tr th {\n",
       "        vertical-align: top;\n",
       "    }\n",
       "\n",
       "    .dataframe thead th {\n",
       "        text-align: right;\n",
       "    }\n",
       "</style>\n",
       "<table border=\"1\" class=\"dataframe\">\n",
       "  <thead>\n",
       "    <tr style=\"text-align: right;\">\n",
       "      <th></th>\n",
       "      <th>artist_id</th>\n",
       "      <th>artist_name</th>\n",
       "      <th>track_id</th>\n",
       "      <th>track_name</th>\n",
       "    </tr>\n",
       "  </thead>\n",
       "  <tbody>\n",
       "    <tr>\n",
       "      <th>0</th>\n",
       "      <td>5trjp6hXOHtTlaRSR8MEFL</td>\n",
       "      <td>Liquid Dance</td>\n",
       "      <td>4scLidW4WSD9JbaRc9CspV</td>\n",
       "      <td>Drizzling Down</td>\n",
       "    </tr>\n",
       "    <tr>\n",
       "      <th>1</th>\n",
       "      <td>6dMgJ2cftqX4iCnrSLJXHw</td>\n",
       "      <td>Justin E. Bell</td>\n",
       "      <td>5UE1l5fozj8mkaZMk1xmBX</td>\n",
       "      <td>Hope (Title Theme)</td>\n",
       "    </tr>\n",
       "    <tr>\n",
       "      <th>2</th>\n",
       "      <td>566MlWaCa63jvMZV9YMj3V</td>\n",
       "      <td>Joseph Trapanese</td>\n",
       "      <td>6zwhlb96RIzTUd5HIAlx1H</td>\n",
       "      <td>Witcher Training</td>\n",
       "    </tr>\n",
       "  </tbody>\n",
       "</table>\n",
       "</div>"
      ],
      "text/plain": [
       "                artist_id       artist_name                track_id  \\\n",
       "0  5trjp6hXOHtTlaRSR8MEFL      Liquid Dance  4scLidW4WSD9JbaRc9CspV   \n",
       "1  6dMgJ2cftqX4iCnrSLJXHw    Justin E. Bell  5UE1l5fozj8mkaZMk1xmBX   \n",
       "2  566MlWaCa63jvMZV9YMj3V  Joseph Trapanese  6zwhlb96RIzTUd5HIAlx1H   \n",
       "\n",
       "           track_name  \n",
       "0      Drizzling Down  \n",
       "1  Hope (Title Theme)  \n",
       "2    Witcher Training  "
      ]
     },
     "metadata": {},
     "output_type": "display_data"
    },
    {
     "data": {
      "text/html": [
       "<div>\n",
       "<style scoped>\n",
       "    .dataframe tbody tr th:only-of-type {\n",
       "        vertical-align: middle;\n",
       "    }\n",
       "\n",
       "    .dataframe tbody tr th {\n",
       "        vertical-align: top;\n",
       "    }\n",
       "\n",
       "    .dataframe thead th {\n",
       "        text-align: right;\n",
       "    }\n",
       "</style>\n",
       "<table border=\"1\" class=\"dataframe\">\n",
       "  <thead>\n",
       "    <tr style=\"text-align: right;\">\n",
       "      <th></th>\n",
       "      <th>artist_id</th>\n",
       "      <th>artist_name</th>\n",
       "      <th>track_id</th>\n",
       "      <th>track_name</th>\n",
       "    </tr>\n",
       "  </thead>\n",
       "  <tbody>\n",
       "    <tr>\n",
       "      <th>0</th>\n",
       "      <td>3FGa3dQAwHwZI8MvIM1SLq</td>\n",
       "      <td>Siente El Clima</td>\n",
       "      <td>5sIj5SGyT0k2CsZYGoue5n</td>\n",
       "      <td>Tormenta De Lluvia</td>\n",
       "    </tr>\n",
       "    <tr>\n",
       "      <th>1</th>\n",
       "      <td>4Lm0pUvmisUHMdoky5ch2I</td>\n",
       "      <td>Apocalyptica</td>\n",
       "      <td>3uErbNGaNIPJkRlMrLxR9Z</td>\n",
       "      <td>Nothing Else Matters</td>\n",
       "    </tr>\n",
       "    <tr>\n",
       "      <th>2</th>\n",
       "      <td>3dhWjAIYXpdGhApvNixEKw</td>\n",
       "      <td>Unsecret String Quartet</td>\n",
       "      <td>09efVfgf64MbVRdLKDnIGS</td>\n",
       "      <td>Running Up That Hill</td>\n",
       "    </tr>\n",
       "  </tbody>\n",
       "</table>\n",
       "</div>"
      ],
      "text/plain": [
       "                artist_id              artist_name                track_id  \\\n",
       "0  3FGa3dQAwHwZI8MvIM1SLq          Siente El Clima  5sIj5SGyT0k2CsZYGoue5n   \n",
       "1  4Lm0pUvmisUHMdoky5ch2I             Apocalyptica  3uErbNGaNIPJkRlMrLxR9Z   \n",
       "2  3dhWjAIYXpdGhApvNixEKw  Unsecret String Quartet  09efVfgf64MbVRdLKDnIGS   \n",
       "\n",
       "             track_name  \n",
       "0    Tormenta De Lluvia  \n",
       "1  Nothing Else Matters  \n",
       "2  Running Up That Hill  "
      ]
     },
     "metadata": {},
     "output_type": "display_data"
    }
   ],
   "source": [
    "# tracks_recommendation_random = tracks_recommendation.sample(n=3).reset_index(drop=True)\n",
    "# tracks_recommendation_random = tracks_recommendation_random[['artist_id','artist_name','track_id','track_name']]\n",
    "tracks_recommendation_random = mf.random_recommendation(user_cluster)\n",
    "\n",
    "satisfied = False\n",
    "while not satisfied:\n",
    "    display(tracks_recommendation_random)\n",
    "\n",
    "    # Ask user if satisfied\n",
    "    satisfaction = input(\"Are you satisfied with these recommendations? (y/n): \").strip().lower()\n",
    "\n",
    "    if satisfaction == \"y\":\n",
    "        satisfied = True\n",
    "    elif satisfaction == \"n\":\n",
    "        # Sample 3 new random tracks\n",
    "        # tracks_recommendation_random = tracks_recommendation.sample(n=3).reset_index(drop=True)\n",
    "        # tracks_recommendation_random = tracks_recommendation_random[['artist_id', 'artist_name', 'track_id', 'track_name']]\n",
    "        tracks_recommendation_random = mf.random_recommendation(user_cluster)\n",
    "    else:\n",
    "        print(\"Invalid input. Please enter 'yes' or 'no'.\")"
   ]
  },
  {
   "cell_type": "code",
   "execution_count": 61,
   "metadata": {},
   "outputs": [
    {
     "name": "stdout",
     "output_type": "stream",
     "text": [
      "Here are recommendations for you !\n"
     ]
    },
    {
     "data": {
      "text/html": [
       "<div>\n",
       "<style scoped>\n",
       "    .dataframe tbody tr th:only-of-type {\n",
       "        vertical-align: middle;\n",
       "    }\n",
       "\n",
       "    .dataframe tbody tr th {\n",
       "        vertical-align: top;\n",
       "    }\n",
       "\n",
       "    .dataframe thead th {\n",
       "        text-align: right;\n",
       "    }\n",
       "</style>\n",
       "<table border=\"1\" class=\"dataframe\">\n",
       "  <thead>\n",
       "    <tr style=\"text-align: right;\">\n",
       "      <th></th>\n",
       "      <th>artist_id</th>\n",
       "      <th>artist_name</th>\n",
       "      <th>track_id</th>\n",
       "      <th>track_name</th>\n",
       "    </tr>\n",
       "  </thead>\n",
       "  <tbody>\n",
       "    <tr>\n",
       "      <th>0</th>\n",
       "      <td>3FGa3dQAwHwZI8MvIM1SLq</td>\n",
       "      <td>Siente El Clima</td>\n",
       "      <td>5sIj5SGyT0k2CsZYGoue5n</td>\n",
       "      <td>Tormenta De Lluvia</td>\n",
       "    </tr>\n",
       "    <tr>\n",
       "      <th>1</th>\n",
       "      <td>4Lm0pUvmisUHMdoky5ch2I</td>\n",
       "      <td>Apocalyptica</td>\n",
       "      <td>3uErbNGaNIPJkRlMrLxR9Z</td>\n",
       "      <td>Nothing Else Matters</td>\n",
       "    </tr>\n",
       "    <tr>\n",
       "      <th>2</th>\n",
       "      <td>3dhWjAIYXpdGhApvNixEKw</td>\n",
       "      <td>Unsecret String Quartet</td>\n",
       "      <td>09efVfgf64MbVRdLKDnIGS</td>\n",
       "      <td>Running Up That Hill</td>\n",
       "    </tr>\n",
       "  </tbody>\n",
       "</table>\n",
       "</div>"
      ],
      "text/plain": [
       "                artist_id              artist_name                track_id  \\\n",
       "0  3FGa3dQAwHwZI8MvIM1SLq          Siente El Clima  5sIj5SGyT0k2CsZYGoue5n   \n",
       "1  4Lm0pUvmisUHMdoky5ch2I             Apocalyptica  3uErbNGaNIPJkRlMrLxR9Z   \n",
       "2  3dhWjAIYXpdGhApvNixEKw  Unsecret String Quartet  09efVfgf64MbVRdLKDnIGS   \n",
       "\n",
       "             track_name  \n",
       "0    Tormenta De Lluvia  \n",
       "1  Nothing Else Matters  \n",
       "2  Running Up That Hill  "
      ]
     },
     "execution_count": 61,
     "metadata": {},
     "output_type": "execute_result"
    }
   ],
   "source": [
    "print('Here are recommendations for you !')\n",
    "tracks_recommendation_random"
   ]
  },
  {
   "cell_type": "code",
   "execution_count": 24,
   "metadata": {},
   "outputs": [
    {
     "data": {
      "text/html": [
       "\n",
       "        <iframe\n",
       "            width=\"320\"\n",
       "            height=\"80\"\n",
       "            src=\"https://open.spotify.com/embed/track/5HQ639Z3ms3hnZx0KfWnkp?frameborder=0&allowtransparency=true&allow=encrypted-media\"\n",
       "            frameborder=\"0\"\n",
       "            allowfullscreen\n",
       "            \n",
       "        ></iframe>\n",
       "        "
      ],
      "text/plain": [
       "<IPython.lib.display.IFrame at 0x162f1fb2d80>"
      ]
     },
     "execution_count": 24,
     "metadata": {},
     "output_type": "execute_result"
    }
   ],
   "source": [
    "track_id_recommendation = list(tracks_recommendation_random['track_id'])\n",
    "track_id_recommendation\n",
    "\n",
    "mf.play_song(track_id_recommendation[0])"
   ]
  },
  {
   "cell_type": "code",
   "execution_count": 25,
   "metadata": {},
   "outputs": [
    {
     "data": {
      "text/html": [
       "\n",
       "        <iframe\n",
       "            width=\"320\"\n",
       "            height=\"80\"\n",
       "            src=\"https://open.spotify.com/embed/track/3D7cUXDEKLAFsoD10QRoiR?frameborder=0&allowtransparency=true&allow=encrypted-media\"\n",
       "            frameborder=\"0\"\n",
       "            allowfullscreen\n",
       "            \n",
       "        ></iframe>\n",
       "        "
      ],
      "text/plain": [
       "<IPython.lib.display.IFrame at 0x162f1f67d70>"
      ]
     },
     "execution_count": 25,
     "metadata": {},
     "output_type": "execute_result"
    }
   ],
   "source": [
    "mf.play_song(track_id_recommendation[1])"
   ]
  },
  {
   "cell_type": "code",
   "execution_count": 26,
   "metadata": {},
   "outputs": [
    {
     "data": {
      "text/html": [
       "\n",
       "        <iframe\n",
       "            width=\"320\"\n",
       "            height=\"80\"\n",
       "            src=\"https://open.spotify.com/embed/track/08Jrszz3ir62gPhy9wfU4i?frameborder=0&allowtransparency=true&allow=encrypted-media\"\n",
       "            frameborder=\"0\"\n",
       "            allowfullscreen\n",
       "            \n",
       "        ></iframe>\n",
       "        "
      ],
      "text/plain": [
       "<IPython.lib.display.IFrame at 0x162f7cafbf0>"
      ]
     },
     "execution_count": 26,
     "metadata": {},
     "output_type": "execute_result"
    }
   ],
   "source": [
    "mf.play_song(track_id_recommendation[2])"
   ]
  }
 ],
 "metadata": {
  "kernelspec": {
   "display_name": "Python 3",
   "language": "python",
   "name": "python3"
  },
  "language_info": {
   "codemirror_mode": {
    "name": "ipython",
    "version": 3
   },
   "file_extension": ".py",
   "mimetype": "text/x-python",
   "name": "python",
   "nbconvert_exporter": "python",
   "pygments_lexer": "ipython3",
   "version": "3.12.0"
  }
 },
 "nbformat": 4,
 "nbformat_minor": 2
}
