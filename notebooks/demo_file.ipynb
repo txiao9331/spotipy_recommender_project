{
 "cells": [
  {
   "cell_type": "code",
   "execution_count": 1,
   "metadata": {},
   "outputs": [],
   "source": [
    "# import pandas as pd\n",
    "import melo_func as mf"
   ]
  },
  {
   "cell_type": "markdown",
   "metadata": {},
   "source": [
    "# 1. Search for user's input"
   ]
  },
  {
   "cell_type": "markdown",
   "metadata": {},
   "source": [
    "## 1.1 Request user to input the name of a song"
   ]
  },
  {
   "cell_type": "code",
   "execution_count": 2,
   "metadata": {},
   "outputs": [
    {
     "data": {
      "text/plain": [
       "'drunk in love'"
      ]
     },
     "execution_count": 2,
     "metadata": {},
     "output_type": "execute_result"
    }
   ],
   "source": [
    "song = input('Please write a song that you like : ')\n",
    "song"
   ]
  },
  {
   "cell_type": "markdown",
   "metadata": {},
   "source": [
    "## 1.2 finding matching tracks on spotify"
   ]
  },
  {
   "cell_type": "code",
   "execution_count": 3,
   "metadata": {},
   "outputs": [
    {
     "name": "stdout",
     "output_type": "stream",
     "text": [
      "Results 1-5:\n"
     ]
    },
    {
     "data": {
      "text/html": [
       "<div>\n",
       "<style scoped>\n",
       "    .dataframe tbody tr th:only-of-type {\n",
       "        vertical-align: middle;\n",
       "    }\n",
       "\n",
       "    .dataframe tbody tr th {\n",
       "        vertical-align: top;\n",
       "    }\n",
       "\n",
       "    .dataframe thead th {\n",
       "        text-align: right;\n",
       "    }\n",
       "</style>\n",
       "<table border=\"1\" class=\"dataframe\">\n",
       "  <thead>\n",
       "    <tr style=\"text-align: right;\">\n",
       "      <th></th>\n",
       "      <th>track_id</th>\n",
       "      <th>track_name</th>\n",
       "      <th>artist_names</th>\n",
       "      <th>number</th>\n",
       "    </tr>\n",
       "  </thead>\n",
       "  <tbody>\n",
       "    <tr>\n",
       "      <th>0</th>\n",
       "      <td>6jG2YzhxptolDzLHTGLt7S</td>\n",
       "      <td>Drunk in Love (feat. Jay-Z)</td>\n",
       "      <td>Beyoncé, JAY-Z</td>\n",
       "      <td>1</td>\n",
       "    </tr>\n",
       "    <tr>\n",
       "      <th>1</th>\n",
       "      <td>71BqAINEnezjQfxE4VuJfq</td>\n",
       "      <td>\"Slut!\" (Taylor's Version) (From The Vault)</td>\n",
       "      <td>Taylor Swift</td>\n",
       "      <td>2</td>\n",
       "    </tr>\n",
       "    <tr>\n",
       "      <th>2</th>\n",
       "      <td>2Kv64a8vbcFvZTguW87jrb</td>\n",
       "      <td>Drunk In Love (feat. The Weeknd) [Remix]</td>\n",
       "      <td>T.I., The Weeknd</td>\n",
       "      <td>3</td>\n",
       "    </tr>\n",
       "    <tr>\n",
       "      <th>3</th>\n",
       "      <td>0FZmAvivvifvtN3pZScbw1</td>\n",
       "      <td>Drunk in Love Remix (feat. Jay-Z &amp; Kanye West)</td>\n",
       "      <td>Beyoncé, JAY-Z, Kanye West</td>\n",
       "      <td>4</td>\n",
       "    </tr>\n",
       "    <tr>\n",
       "      <th>4</th>\n",
       "      <td>4IKUlMlkRGC05RFSmbrQ7d</td>\n",
       "      <td>Drunk In Love</td>\n",
       "      <td>Lost Files Xo, the weeknd xo</td>\n",
       "      <td>5</td>\n",
       "    </tr>\n",
       "  </tbody>\n",
       "</table>\n",
       "</div>"
      ],
      "text/plain": [
       "                 track_id                                      track_name  \\\n",
       "0  6jG2YzhxptolDzLHTGLt7S                     Drunk in Love (feat. Jay-Z)   \n",
       "1  71BqAINEnezjQfxE4VuJfq     \"Slut!\" (Taylor's Version) (From The Vault)   \n",
       "2  2Kv64a8vbcFvZTguW87jrb        Drunk In Love (feat. The Weeknd) [Remix]   \n",
       "3  0FZmAvivvifvtN3pZScbw1  Drunk in Love Remix (feat. Jay-Z & Kanye West)   \n",
       "4  4IKUlMlkRGC05RFSmbrQ7d                                   Drunk In Love   \n",
       "\n",
       "                   artist_names  number  \n",
       "0                Beyoncé, JAY-Z       1  \n",
       "1                  Taylor Swift       2  \n",
       "2              T.I., The Weeknd       3  \n",
       "3    Beyoncé, JAY-Z, Kanye West       4  \n",
       "4  Lost Files Xo, the weeknd xo       5  "
      ]
     },
     "metadata": {},
     "output_type": "display_data"
    }
   ],
   "source": [
    "# ask for user if results satisfy, if not, redo the search \n",
    "# tracks_df = pd.DataFrame()\n",
    "tracks_df = mf.find_song(song)"
   ]
  },
  {
   "cell_type": "code",
   "execution_count": 4,
   "metadata": {},
   "outputs": [
    {
     "data": {
      "text/html": [
       "<div>\n",
       "<style scoped>\n",
       "    .dataframe tbody tr th:only-of-type {\n",
       "        vertical-align: middle;\n",
       "    }\n",
       "\n",
       "    .dataframe tbody tr th {\n",
       "        vertical-align: top;\n",
       "    }\n",
       "\n",
       "    .dataframe thead th {\n",
       "        text-align: right;\n",
       "    }\n",
       "</style>\n",
       "<table border=\"1\" class=\"dataframe\">\n",
       "  <thead>\n",
       "    <tr style=\"text-align: right;\">\n",
       "      <th></th>\n",
       "      <th>track_id</th>\n",
       "      <th>track_name</th>\n",
       "      <th>artist_names</th>\n",
       "      <th>number</th>\n",
       "    </tr>\n",
       "  </thead>\n",
       "  <tbody>\n",
       "    <tr>\n",
       "      <th>0</th>\n",
       "      <td>6jG2YzhxptolDzLHTGLt7S</td>\n",
       "      <td>Drunk in Love (feat. Jay-Z)</td>\n",
       "      <td>Beyoncé, JAY-Z</td>\n",
       "      <td>1</td>\n",
       "    </tr>\n",
       "    <tr>\n",
       "      <th>1</th>\n",
       "      <td>71BqAINEnezjQfxE4VuJfq</td>\n",
       "      <td>\"Slut!\" (Taylor's Version) (From The Vault)</td>\n",
       "      <td>Taylor Swift</td>\n",
       "      <td>2</td>\n",
       "    </tr>\n",
       "    <tr>\n",
       "      <th>2</th>\n",
       "      <td>2Kv64a8vbcFvZTguW87jrb</td>\n",
       "      <td>Drunk In Love (feat. The Weeknd) [Remix]</td>\n",
       "      <td>T.I., The Weeknd</td>\n",
       "      <td>3</td>\n",
       "    </tr>\n",
       "    <tr>\n",
       "      <th>3</th>\n",
       "      <td>0FZmAvivvifvtN3pZScbw1</td>\n",
       "      <td>Drunk in Love Remix (feat. Jay-Z &amp; Kanye West)</td>\n",
       "      <td>Beyoncé, JAY-Z, Kanye West</td>\n",
       "      <td>4</td>\n",
       "    </tr>\n",
       "    <tr>\n",
       "      <th>4</th>\n",
       "      <td>4IKUlMlkRGC05RFSmbrQ7d</td>\n",
       "      <td>Drunk In Love</td>\n",
       "      <td>Lost Files Xo, the weeknd xo</td>\n",
       "      <td>5</td>\n",
       "    </tr>\n",
       "  </tbody>\n",
       "</table>\n",
       "</div>"
      ],
      "text/plain": [
       "                 track_id                                      track_name  \\\n",
       "0  6jG2YzhxptolDzLHTGLt7S                     Drunk in Love (feat. Jay-Z)   \n",
       "1  71BqAINEnezjQfxE4VuJfq     \"Slut!\" (Taylor's Version) (From The Vault)   \n",
       "2  2Kv64a8vbcFvZTguW87jrb        Drunk In Love (feat. The Weeknd) [Remix]   \n",
       "3  0FZmAvivvifvtN3pZScbw1  Drunk in Love Remix (feat. Jay-Z & Kanye West)   \n",
       "4  4IKUlMlkRGC05RFSmbrQ7d                                   Drunk In Love   \n",
       "\n",
       "                   artist_names  number  \n",
       "0                Beyoncé, JAY-Z       1  \n",
       "1                  Taylor Swift       2  \n",
       "2              T.I., The Weeknd       3  \n",
       "3    Beyoncé, JAY-Z, Kanye West       4  \n",
       "4  Lost Files Xo, the weeknd xo       5  "
      ]
     },
     "execution_count": 4,
     "metadata": {},
     "output_type": "execute_result"
    }
   ],
   "source": [
    "tracks_df"
   ]
  },
  {
   "cell_type": "markdown",
   "metadata": {},
   "source": [
    "## 1.3 request user to select the track"
   ]
  },
  {
   "cell_type": "code",
   "execution_count": 5,
   "metadata": {},
   "outputs": [],
   "source": [
    "track_id = mf.select_track(tracks_df)"
   ]
  },
  {
   "cell_type": "markdown",
   "metadata": {},
   "source": [
    "## 1.4 Embeded track player"
   ]
  },
  {
   "cell_type": "code",
   "execution_count": 6,
   "metadata": {},
   "outputs": [
    {
     "data": {
      "text/html": [
       "\n",
       "        <iframe\n",
       "            width=\"320\"\n",
       "            height=\"80\"\n",
       "            src=\"https://open.spotify.com/embed/track/6jG2YzhxptolDzLHTGLt7S?utm_source=generator?frameborder=0&allowtransparency=true&allow=encrypted-media\"\n",
       "            frameborder=\"0\"\n",
       "            allowfullscreen\n",
       "            \n",
       "        ></iframe>\n",
       "        "
      ],
      "text/plain": [
       "<IPython.lib.display.IFrame at 0x1fddf9d1310>"
      ]
     },
     "execution_count": 6,
     "metadata": {},
     "output_type": "execute_result"
    }
   ],
   "source": [
    "mf.embed_track(track_id)"
   ]
  },
  {
   "cell_type": "markdown",
   "metadata": {},
   "source": [
    "# 2. Recommendation 3 songs according to the track features of user's choice"
   ]
  },
  {
   "cell_type": "markdown",
   "metadata": {},
   "source": [
    "## 2.1 features of user's track"
   ]
  },
  {
   "cell_type": "code",
   "execution_count": 7,
   "metadata": {},
   "outputs": [
    {
     "data": {
      "text/html": [
       "<div>\n",
       "<style scoped>\n",
       "    .dataframe tbody tr th:only-of-type {\n",
       "        vertical-align: middle;\n",
       "    }\n",
       "\n",
       "    .dataframe tbody tr th {\n",
       "        vertical-align: top;\n",
       "    }\n",
       "\n",
       "    .dataframe thead th {\n",
       "        text-align: right;\n",
       "    }\n",
       "</style>\n",
       "<table border=\"1\" class=\"dataframe\">\n",
       "  <thead>\n",
       "    <tr style=\"text-align: right;\">\n",
       "      <th></th>\n",
       "      <th>is_explicit</th>\n",
       "      <th>popularity</th>\n",
       "      <th>danceability</th>\n",
       "      <th>energy</th>\n",
       "      <th>key</th>\n",
       "      <th>loudness</th>\n",
       "      <th>mode</th>\n",
       "      <th>speechiness</th>\n",
       "      <th>acousticness</th>\n",
       "      <th>instrumentalness</th>\n",
       "      <th>liveness</th>\n",
       "      <th>valence</th>\n",
       "      <th>tempo</th>\n",
       "      <th>time_signature</th>\n",
       "    </tr>\n",
       "  </thead>\n",
       "  <tbody>\n",
       "    <tr>\n",
       "      <th>user_track</th>\n",
       "      <td>False</td>\n",
       "      <td>51</td>\n",
       "      <td>0.583</td>\n",
       "      <td>0.621</td>\n",
       "      <td>5</td>\n",
       "      <td>-6.902</td>\n",
       "      <td>0</td>\n",
       "      <td>0.0479</td>\n",
       "      <td>0.00972</td>\n",
       "      <td>0.00106</td>\n",
       "      <td>0.181</td>\n",
       "      <td>0.399</td>\n",
       "      <td>140.036</td>\n",
       "      <td>4</td>\n",
       "    </tr>\n",
       "  </tbody>\n",
       "</table>\n",
       "</div>"
      ],
      "text/plain": [
       "            is_explicit  popularity  danceability  energy  key  loudness  \\\n",
       "user_track        False          51         0.583   0.621    5    -6.902   \n",
       "\n",
       "            mode  speechiness  acousticness  instrumentalness  liveness  \\\n",
       "user_track     0       0.0479       0.00972           0.00106     0.181   \n",
       "\n",
       "            valence    tempo  time_signature  \n",
       "user_track    0.399  140.036               4  "
      ]
     },
     "execution_count": 7,
     "metadata": {},
     "output_type": "execute_result"
    }
   ],
   "source": [
    "user_features = mf.user_track_features(track_id)\n",
    "user_features"
   ]
  },
  {
   "cell_type": "code",
   "execution_count": 8,
   "metadata": {},
   "outputs": [
    {
     "data": {
      "text/plain": [
       "2"
      ]
     },
     "execution_count": 8,
     "metadata": {},
     "output_type": "execute_result"
    }
   ],
   "source": [
    "user_cluster = mf.user_predict_km100(user_features)\n",
    "user_cluster"
   ]
  },
  {
   "cell_type": "code",
   "execution_count": 9,
   "metadata": {},
   "outputs": [
    {
     "data": {
      "text/html": [
       "<div>\n",
       "<style scoped>\n",
       "    .dataframe tbody tr th:only-of-type {\n",
       "        vertical-align: middle;\n",
       "    }\n",
       "\n",
       "    .dataframe tbody tr th {\n",
       "        vertical-align: top;\n",
       "    }\n",
       "\n",
       "    .dataframe thead th {\n",
       "        text-align: right;\n",
       "    }\n",
       "</style>\n",
       "<table border=\"1\" class=\"dataframe\">\n",
       "  <thead>\n",
       "    <tr style=\"text-align: right;\">\n",
       "      <th></th>\n",
       "      <th>artist_id</th>\n",
       "      <th>artist_name</th>\n",
       "      <th>track_id</th>\n",
       "      <th>track_name</th>\n",
       "    </tr>\n",
       "  </thead>\n",
       "  <tbody>\n",
       "    <tr>\n",
       "      <th>0</th>\n",
       "      <td>5pHxqQIoEFTV7nyZPHZtOE</td>\n",
       "      <td>Rita</td>\n",
       "      <td>52ZGVFYmFfTUfdF3B2MKnL</td>\n",
       "      <td>So Happy</td>\n",
       "    </tr>\n",
       "    <tr>\n",
       "      <th>1</th>\n",
       "      <td>1NcCVE1FRpBSlN3LcAfhn3</td>\n",
       "      <td>Alice et Moi</td>\n",
       "      <td>5IrSaHFfKuSzG6pv6jWXJS</td>\n",
       "      <td>Ça me va</td>\n",
       "    </tr>\n",
       "    <tr>\n",
       "      <th>2</th>\n",
       "      <td>4TvhRzxIL1le2PWCeUqxQw</td>\n",
       "      <td>The Blessed Madonna</td>\n",
       "      <td>7tm4pF2JvKc4GGKSagRuS9</td>\n",
       "      <td>Carry Me Higher - 7 Inch Version</td>\n",
       "    </tr>\n",
       "  </tbody>\n",
       "</table>\n",
       "</div>"
      ],
      "text/plain": [
       "                artist_id          artist_name                track_id  \\\n",
       "0  5pHxqQIoEFTV7nyZPHZtOE                 Rita  52ZGVFYmFfTUfdF3B2MKnL   \n",
       "1  1NcCVE1FRpBSlN3LcAfhn3         Alice et Moi  5IrSaHFfKuSzG6pv6jWXJS   \n",
       "2  4TvhRzxIL1le2PWCeUqxQw  The Blessed Madonna  7tm4pF2JvKc4GGKSagRuS9   \n",
       "\n",
       "                         track_name  \n",
       "0                          So Happy  \n",
       "1                          Ça me va  \n",
       "2  Carry Me Higher - 7 Inch Version  "
      ]
     },
     "metadata": {},
     "output_type": "display_data"
    }
   ],
   "source": [
    "tracks_recommendation_random = mf.recommendation(user_cluster)"
   ]
  },
  {
   "cell_type": "code",
   "execution_count": 10,
   "metadata": {},
   "outputs": [
    {
     "name": "stdout",
     "output_type": "stream",
     "text": [
      "Here are recommendations for you !\n"
     ]
    },
    {
     "data": {
      "text/html": [
       "<div>\n",
       "<style scoped>\n",
       "    .dataframe tbody tr th:only-of-type {\n",
       "        vertical-align: middle;\n",
       "    }\n",
       "\n",
       "    .dataframe tbody tr th {\n",
       "        vertical-align: top;\n",
       "    }\n",
       "\n",
       "    .dataframe thead th {\n",
       "        text-align: right;\n",
       "    }\n",
       "</style>\n",
       "<table border=\"1\" class=\"dataframe\">\n",
       "  <thead>\n",
       "    <tr style=\"text-align: right;\">\n",
       "      <th></th>\n",
       "      <th>artist_id</th>\n",
       "      <th>artist_name</th>\n",
       "      <th>track_id</th>\n",
       "      <th>track_name</th>\n",
       "    </tr>\n",
       "  </thead>\n",
       "  <tbody>\n",
       "    <tr>\n",
       "      <th>0</th>\n",
       "      <td>5pHxqQIoEFTV7nyZPHZtOE</td>\n",
       "      <td>Rita</td>\n",
       "      <td>52ZGVFYmFfTUfdF3B2MKnL</td>\n",
       "      <td>So Happy</td>\n",
       "    </tr>\n",
       "    <tr>\n",
       "      <th>1</th>\n",
       "      <td>1NcCVE1FRpBSlN3LcAfhn3</td>\n",
       "      <td>Alice et Moi</td>\n",
       "      <td>5IrSaHFfKuSzG6pv6jWXJS</td>\n",
       "      <td>Ça me va</td>\n",
       "    </tr>\n",
       "    <tr>\n",
       "      <th>2</th>\n",
       "      <td>4TvhRzxIL1le2PWCeUqxQw</td>\n",
       "      <td>The Blessed Madonna</td>\n",
       "      <td>7tm4pF2JvKc4GGKSagRuS9</td>\n",
       "      <td>Carry Me Higher - 7 Inch Version</td>\n",
       "    </tr>\n",
       "  </tbody>\n",
       "</table>\n",
       "</div>"
      ],
      "text/plain": [
       "                artist_id          artist_name                track_id  \\\n",
       "0  5pHxqQIoEFTV7nyZPHZtOE                 Rita  52ZGVFYmFfTUfdF3B2MKnL   \n",
       "1  1NcCVE1FRpBSlN3LcAfhn3         Alice et Moi  5IrSaHFfKuSzG6pv6jWXJS   \n",
       "2  4TvhRzxIL1le2PWCeUqxQw  The Blessed Madonna  7tm4pF2JvKc4GGKSagRuS9   \n",
       "\n",
       "                         track_name  \n",
       "0                          So Happy  \n",
       "1                          Ça me va  \n",
       "2  Carry Me Higher - 7 Inch Version  "
      ]
     },
     "metadata": {},
     "output_type": "display_data"
    }
   ],
   "source": [
    "print('Here are recommendations for you !')\n",
    "display(tracks_recommendation_random)"
   ]
  },
  {
   "cell_type": "code",
   "execution_count": 11,
   "metadata": {},
   "outputs": [
    {
     "data": {
      "text/html": [
       "\n",
       "        <iframe\n",
       "            width=\"320\"\n",
       "            height=\"80\"\n",
       "            src=\"https://open.spotify.com/embed/track/52ZGVFYmFfTUfdF3B2MKnL?frameborder=0&allowtransparency=true&allow=encrypted-media\"\n",
       "            frameborder=\"0\"\n",
       "            allowfullscreen\n",
       "            \n",
       "        ></iframe>\n",
       "        "
      ],
      "text/plain": [
       "<IPython.lib.display.IFrame at 0x1fd8127e480>"
      ]
     },
     "execution_count": 11,
     "metadata": {},
     "output_type": "execute_result"
    }
   ],
   "source": [
    "track_id_recommendation = list(tracks_recommendation_random['track_id'])\n",
    "mf.play_song(track_id_recommendation[0])"
   ]
  },
  {
   "cell_type": "code",
   "execution_count": 12,
   "metadata": {},
   "outputs": [
    {
     "data": {
      "text/html": [
       "\n",
       "        <iframe\n",
       "            width=\"320\"\n",
       "            height=\"80\"\n",
       "            src=\"https://open.spotify.com/embed/track/5IrSaHFfKuSzG6pv6jWXJS?frameborder=0&allowtransparency=true&allow=encrypted-media\"\n",
       "            frameborder=\"0\"\n",
       "            allowfullscreen\n",
       "            \n",
       "        ></iframe>\n",
       "        "
      ],
      "text/plain": [
       "<IPython.lib.display.IFrame at 0x1fd811aaa20>"
      ]
     },
     "execution_count": 12,
     "metadata": {},
     "output_type": "execute_result"
    }
   ],
   "source": [
    "mf.play_song(track_id_recommendation[1])"
   ]
  },
  {
   "cell_type": "code",
   "execution_count": 13,
   "metadata": {},
   "outputs": [
    {
     "data": {
      "text/html": [
       "\n",
       "        <iframe\n",
       "            width=\"320\"\n",
       "            height=\"80\"\n",
       "            src=\"https://open.spotify.com/embed/track/7tm4pF2JvKc4GGKSagRuS9?frameborder=0&allowtransparency=true&allow=encrypted-media\"\n",
       "            frameborder=\"0\"\n",
       "            allowfullscreen\n",
       "            \n",
       "        ></iframe>\n",
       "        "
      ],
      "text/plain": [
       "<IPython.lib.display.IFrame at 0x1fd81252660>"
      ]
     },
     "execution_count": 13,
     "metadata": {},
     "output_type": "execute_result"
    }
   ],
   "source": [
    "mf.play_song(track_id_recommendation[2])"
   ]
  },
  {
   "cell_type": "markdown",
   "metadata": {},
   "source": [
    "## try another model (km200)"
   ]
  },
  {
   "cell_type": "code",
   "execution_count": 14,
   "metadata": {},
   "outputs": [
    {
     "data": {
      "text/plain": [
       "177"
      ]
     },
     "execution_count": 14,
     "metadata": {},
     "output_type": "execute_result"
    }
   ],
   "source": [
    "user_cluster2 = mf.user_predict_km200(user_features)\n",
    "user_cluster2"
   ]
  },
  {
   "cell_type": "code",
   "execution_count": 15,
   "metadata": {},
   "outputs": [
    {
     "data": {
      "text/html": [
       "<div>\n",
       "<style scoped>\n",
       "    .dataframe tbody tr th:only-of-type {\n",
       "        vertical-align: middle;\n",
       "    }\n",
       "\n",
       "    .dataframe tbody tr th {\n",
       "        vertical-align: top;\n",
       "    }\n",
       "\n",
       "    .dataframe thead th {\n",
       "        text-align: right;\n",
       "    }\n",
       "</style>\n",
       "<table border=\"1\" class=\"dataframe\">\n",
       "  <thead>\n",
       "    <tr style=\"text-align: right;\">\n",
       "      <th></th>\n",
       "      <th>artist_id</th>\n",
       "      <th>artist_name</th>\n",
       "      <th>track_id</th>\n",
       "      <th>track_name</th>\n",
       "    </tr>\n",
       "  </thead>\n",
       "  <tbody>\n",
       "    <tr>\n",
       "      <th>0</th>\n",
       "      <td>0g7hZVprd3orBpMrSLWeJ9</td>\n",
       "      <td>Florent Pagny</td>\n",
       "      <td>0x8GIrcAO8msuslNoTKIXM</td>\n",
       "      <td>Savoir aimer</td>\n",
       "    </tr>\n",
       "    <tr>\n",
       "      <th>1</th>\n",
       "      <td>4YTk2H7LWeoCgdoQ5umieQ</td>\n",
       "      <td>Rvshvd</td>\n",
       "      <td>40jq22x0xSlHJ81KWZ1Hhm</td>\n",
       "      <td>For My Dawgs (feat. Willie Jones &amp; Blanco Brown)</td>\n",
       "    </tr>\n",
       "    <tr>\n",
       "      <th>2</th>\n",
       "      <td>0zOcE3mg9nS6l3yxt1Y0bK</td>\n",
       "      <td>The Fray</td>\n",
       "      <td>5l6hpyTGBK0LAAxgPnqTQL</td>\n",
       "      <td>Look After You</td>\n",
       "    </tr>\n",
       "  </tbody>\n",
       "</table>\n",
       "</div>"
      ],
      "text/plain": [
       "                artist_id    artist_name                track_id  \\\n",
       "0  0g7hZVprd3orBpMrSLWeJ9  Florent Pagny  0x8GIrcAO8msuslNoTKIXM   \n",
       "1  4YTk2H7LWeoCgdoQ5umieQ         Rvshvd  40jq22x0xSlHJ81KWZ1Hhm   \n",
       "2  0zOcE3mg9nS6l3yxt1Y0bK       The Fray  5l6hpyTGBK0LAAxgPnqTQL   \n",
       "\n",
       "                                         track_name  \n",
       "0                                      Savoir aimer  \n",
       "1  For My Dawgs (feat. Willie Jones & Blanco Brown)  \n",
       "2                                    Look After You  "
      ]
     },
     "metadata": {},
     "output_type": "display_data"
    }
   ],
   "source": [
    "tracks_recommendation_random2 = mf.recommendation2(user_cluster2)"
   ]
  },
  {
   "cell_type": "code",
   "execution_count": 17,
   "metadata": {},
   "outputs": [
    {
     "data": {
      "text/html": [
       "\n",
       "        <iframe\n",
       "            width=\"320\"\n",
       "            height=\"80\"\n",
       "            src=\"https://open.spotify.com/embed/track/0x8GIrcAO8msuslNoTKIXM?frameborder=0&allowtransparency=true&allow=encrypted-media\"\n",
       "            frameborder=\"0\"\n",
       "            allowfullscreen\n",
       "            \n",
       "        ></iframe>\n",
       "        "
      ],
      "text/plain": [
       "<IPython.lib.display.IFrame at 0x1fddebde810>"
      ]
     },
     "execution_count": 17,
     "metadata": {},
     "output_type": "execute_result"
    }
   ],
   "source": [
    "track_id_recommendation2 = list(tracks_recommendation_random2['track_id'])\n",
    "mf.play_song(track_id_recommendation2[0])"
   ]
  },
  {
   "cell_type": "code",
   "execution_count": 18,
   "metadata": {},
   "outputs": [
    {
     "data": {
      "text/html": [
       "\n",
       "        <iframe\n",
       "            width=\"320\"\n",
       "            height=\"80\"\n",
       "            src=\"https://open.spotify.com/embed/track/40jq22x0xSlHJ81KWZ1Hhm?frameborder=0&allowtransparency=true&allow=encrypted-media\"\n",
       "            frameborder=\"0\"\n",
       "            allowfullscreen\n",
       "            \n",
       "        ></iframe>\n",
       "        "
      ],
      "text/plain": [
       "<IPython.lib.display.IFrame at 0x1fdffa02930>"
      ]
     },
     "execution_count": 18,
     "metadata": {},
     "output_type": "execute_result"
    }
   ],
   "source": [
    "mf.play_song(track_id_recommendation2[1])"
   ]
  },
  {
   "cell_type": "code",
   "execution_count": 19,
   "metadata": {},
   "outputs": [
    {
     "data": {
      "text/html": [
       "\n",
       "        <iframe\n",
       "            width=\"320\"\n",
       "            height=\"80\"\n",
       "            src=\"https://open.spotify.com/embed/track/5l6hpyTGBK0LAAxgPnqTQL?frameborder=0&allowtransparency=true&allow=encrypted-media\"\n",
       "            frameborder=\"0\"\n",
       "            allowfullscreen\n",
       "            \n",
       "        ></iframe>\n",
       "        "
      ],
      "text/plain": [
       "<IPython.lib.display.IFrame at 0x1fdff4fd730>"
      ]
     },
     "execution_count": 19,
     "metadata": {},
     "output_type": "execute_result"
    }
   ],
   "source": [
    "mf.play_song(track_id_recommendation2[2])"
   ]
  },
  {
   "cell_type": "code",
   "execution_count": null,
   "metadata": {},
   "outputs": [],
   "source": [
    "# for i in range(3):\n",
    "#     track_search = sp.search(q= ' track:' + track, type='track',limit=10)\n",
    "#     data = track_search['tracks']['items'][i]\n",
    "#     print(i)\n",
    "#     # artist_name = data['artists'][0]['name']\n",
    "#     track_id = data['id']\n",
    "#     track_name = data['name']\n",
    "#     print(track_name)                      \n",
    "#     print(track_id)\n",
    "#     display_show = IFrame(src=\"https://open.spotify.com/embed/track/\"+track_id+\"?utm_source=generator\",\n",
    "#                             width=\"320\",\n",
    "#                             height=\"80\",\n",
    "#                             frameborder=\"0\",\n",
    "#                             allowtransparency=\"true\",\n",
    "#                             allow=\"encrypted-media\")\n",
    "#     display(display_show)"
   ]
  }
 ],
 "metadata": {
  "kernelspec": {
   "display_name": "Python 3",
   "language": "python",
   "name": "python3"
  },
  "language_info": {
   "codemirror_mode": {
    "name": "ipython",
    "version": 3
   },
   "file_extension": ".py",
   "mimetype": "text/x-python",
   "name": "python",
   "nbconvert_exporter": "python",
   "pygments_lexer": "ipython3",
   "version": "3.12.0"
  }
 },
 "nbformat": 4,
 "nbformat_minor": 2
}
