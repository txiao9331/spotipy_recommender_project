{
 "cells": [
  {
   "cell_type": "code",
   "execution_count": null,
   "metadata": {},
   "outputs": [],
   "source": [
    "import numpy as np\n",
    "from matplotlib import pyplot\n",
    "\n",
    "import pickle"
   ]
  },
  {
   "cell_type": "code",
   "execution_count": null,
   "metadata": {},
   "outputs": [],
   "source": [
    "def model_plot(labels,df):\n",
    "    # retrieve unique clusters\n",
    "    clusters = np.unique(labels)\n",
    "    # create scatter plot for samples from each cluster\n",
    "    for cluster in clusters:\n",
    "        # get row indexes for samples with this cluster\n",
    "        row_ix = np.where(labels == cluster)\n",
    "        # create scatter of these samples\n",
    "        pyplot.scatter(df.to_numpy()[row_ix, 0], df.to_numpy()[row_ix,1])\n",
    "        pyplot.xlabel(\"energy\")\n",
    "        pyplot.ylabel(\"instrumentalness\")\n",
    "        # show the plot\n",
    "    pyplot.show()"
   ]
  },
  {
   "cell_type": "code",
   "execution_count": null,
   "metadata": {},
   "outputs": [],
   "source": [
    "# change the x,y label\n",
    "\n",
    "def model_plot2(labels,df):\n",
    "    # retrieve unique clusters\n",
    "    clusters = np.unique(labels)\n",
    "    # create scatter plot for samples from each cluster\n",
    "    for cluster in clusters:\n",
    "        # get row indexes for samples with this cluster\n",
    "        row_ix = np.where(labels == cluster)\n",
    "        # create scatter of these samples\n",
    "        pyplot.scatter(df.to_numpy()[row_ix, 0], df.to_numpy()[row_ix,1])\n",
    "        pyplot.xlabel(\"danceability\")\n",
    "        pyplot.ylabel(\"speechiness\")\n",
    "        # show the plot\n",
    "    pyplot.show()"
   ]
  },
  {
   "cell_type": "code",
   "execution_count": null,
   "metadata": {},
   "outputs": [],
   "source": [
    "# load models with pickle\n",
    "\n",
    "with open('model_km100.pickle', 'rb') as handle:\n",
    "    km100 = pickle.load(handle)\n",
    "\n",
    "with open('scaler.pickle', 'rb') as handle:\n",
    "    scaler = pickle.load(handle)"
   ]
  },
  {
   "cell_type": "code",
   "execution_count": null,
   "metadata": {},
   "outputs": [],
   "source": [
    "labels_1 = km100.labels_\n",
    "model_plot(labels_1,features_df)"
   ]
  },
  {
   "cell_type": "code",
   "execution_count": null,
   "metadata": {},
   "outputs": [],
   "source": []
  }
 ],
 "metadata": {
  "kernelspec": {
   "display_name": "Python 3",
   "language": "python",
   "name": "python3"
  },
  "language_info": {
   "name": "python",
   "version": "3.12.0"
  }
 },
 "nbformat": 4,
 "nbformat_minor": 2
}
