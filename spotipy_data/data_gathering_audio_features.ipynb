{
 "cells": [
  {
   "cell_type": "code",
   "execution_count": 1,
   "metadata": {},
   "outputs": [],
   "source": [
    "import pandas as pd\n",
    "import spotipy\n",
    "from spotipy.oauth2 import SpotifyClientCredentials\n",
    "sp = spotipy.Spotify(auth_manager=SpotifyClientCredentials())\n",
    "from time import sleep"
   ]
  },
  {
   "cell_type": "code",
   "execution_count": 2,
   "metadata": {},
   "outputs": [
    {
     "data": {
      "text/html": [
       "<div>\n",
       "<style scoped>\n",
       "    .dataframe tbody tr th:only-of-type {\n",
       "        vertical-align: middle;\n",
       "    }\n",
       "\n",
       "    .dataframe tbody tr th {\n",
       "        vertical-align: top;\n",
       "    }\n",
       "\n",
       "    .dataframe thead th {\n",
       "        text-align: right;\n",
       "    }\n",
       "</style>\n",
       "<table border=\"1\" class=\"dataframe\">\n",
       "  <thead>\n",
       "    <tr style=\"text-align: right;\">\n",
       "      <th></th>\n",
       "      <th>artist_id</th>\n",
       "      <th>artist_name</th>\n",
       "      <th>track_id</th>\n",
       "      <th>track_name</th>\n",
       "      <th>album_release_date</th>\n",
       "      <th>album_release_date_precision</th>\n",
       "      <th>is_explicit</th>\n",
       "      <th>duration_ms</th>\n",
       "      <th>popularity</th>\n",
       "    </tr>\n",
       "  </thead>\n",
       "  <tbody>\n",
       "    <tr>\n",
       "      <th>0</th>\n",
       "      <td>5ypoEsxvCfwoM8dWqpRQhq</td>\n",
       "      <td>Shamoryo</td>\n",
       "      <td>6YLlHjowYdcrULkRk4r4Ga</td>\n",
       "      <td>Jubel</td>\n",
       "      <td>1900-01-01</td>\n",
       "      <td>day</td>\n",
       "      <td>False</td>\n",
       "      <td>197044</td>\n",
       "      <td>41</td>\n",
       "    </tr>\n",
       "    <tr>\n",
       "      <th>1</th>\n",
       "      <td>2WBJQGf1bT1kxuoqziH5g4</td>\n",
       "      <td>Purple Disco Machine</td>\n",
       "      <td>2F2p7b5Xq20mRyEeWYaeUF</td>\n",
       "      <td>Substitution (feat. Julian Perretta)</td>\n",
       "      <td>2023-03-30</td>\n",
       "      <td>day</td>\n",
       "      <td>False</td>\n",
       "      <td>181477</td>\n",
       "      <td>81</td>\n",
       "    </tr>\n",
       "    <tr>\n",
       "      <th>2</th>\n",
       "      <td>3MyFDtqB80WZvbtCZRsekM</td>\n",
       "      <td>Bakermat</td>\n",
       "      <td>17B9XlyyYDKkTmPay4z02V</td>\n",
       "      <td>Baianá</td>\n",
       "      <td>2020-10-09</td>\n",
       "      <td>day</td>\n",
       "      <td>False</td>\n",
       "      <td>180842</td>\n",
       "      <td>65</td>\n",
       "    </tr>\n",
       "  </tbody>\n",
       "</table>\n",
       "</div>"
      ],
      "text/plain": [
       "                artist_id           artist_name                track_id  \\\n",
       "0  5ypoEsxvCfwoM8dWqpRQhq              Shamoryo  6YLlHjowYdcrULkRk4r4Ga   \n",
       "1  2WBJQGf1bT1kxuoqziH5g4  Purple Disco Machine  2F2p7b5Xq20mRyEeWYaeUF   \n",
       "2  3MyFDtqB80WZvbtCZRsekM              Bakermat  17B9XlyyYDKkTmPay4z02V   \n",
       "\n",
       "                             track_name album_release_date  \\\n",
       "0                                 Jubel         1900-01-01   \n",
       "1  Substitution (feat. Julian Perretta)         2023-03-30   \n",
       "2                                Baianá         2020-10-09   \n",
       "\n",
       "  album_release_date_precision  is_explicit  duration_ms  popularity  \n",
       "0                          day        False       197044          41  \n",
       "1                          day        False       181477          81  \n",
       "2                          day        False       180842          65  "
      ]
     },
     "execution_count": 2,
     "metadata": {},
     "output_type": "execute_result"
    }
   ],
   "source": [
    "df_tracks = pd.read_csv('tracks.csv')\n",
    "df_tracks.head(3)"
   ]
  },
  {
   "cell_type": "code",
   "execution_count": 3,
   "metadata": {},
   "outputs": [
    {
     "name": "stdout",
     "output_type": "stream",
     "text": [
      "Number of requests needed:  362.29\n",
      "Estimate time in minutes:  18.114500000000003\n",
      "Number of requests per minute:  20.0\n"
     ]
    }
   ],
   "source": [
    "# if we pull 100 audio features with each request, add a delay of 3 seconds between requests\n",
    "# how long will it take approx?\n",
    "print(\"Number of requests needed: \",len(df_tracks)/100)\n",
    "print(\"Estimate time in minutes: \", len(df_tracks)/100 * 3 / 60)\n",
    "print(\"Number of requests per minute: \", 60/3)"
   ]
  },
  {
   "cell_type": "code",
   "execution_count": null,
   "metadata": {},
   "outputs": [],
   "source": [
    "list_of_audio_features=[]\n",
    "for x in range(0,len(df_tracks),100):\n",
    "    if x+100 > len(df_tracks):\n",
    "        y=len(df_tracks)\n",
    "    else:\n",
    "        y=x+100\n",
    "    list_of_audio_features.extend(sp.audio_features(df_tracks['track_id'][x:y]))\n",
    "    sleep(3)"
   ]
  },
  {
   "cell_type": "code",
   "execution_count": 16,
   "metadata": {},
   "outputs": [
    {
     "data": {
      "text/plain": [
       "36229"
      ]
     },
     "execution_count": 16,
     "metadata": {},
     "output_type": "execute_result"
    }
   ],
   "source": [
    "len(list_of_audio_features)"
   ]
  },
  {
   "cell_type": "code",
   "execution_count": 17,
   "metadata": {},
   "outputs": [
    {
     "data": {
      "text/plain": [
       "36229"
      ]
     },
     "execution_count": 17,
     "metadata": {},
     "output_type": "execute_result"
    }
   ],
   "source": [
    "len(df_tracks)"
   ]
  },
  {
   "cell_type": "code",
   "execution_count": 27,
   "metadata": {},
   "outputs": [],
   "source": [
    "danceability = []\n",
    "energy = []\n",
    "key = []\n",
    "loudness = []\n",
    "mode = []\n",
    "speechiness = []\n",
    "acousticness = []\n",
    "instrumentalness = []\n",
    "liveness = []\n",
    "valence = []\n",
    "tempo = []\n",
    "duration_ms = []\n",
    "time_signature = []\n",
    "track_href = []\n",
    "\n",
    "for af in list_of_audio_features:\n",
    "    if af:\n",
    "        danceability.append(af['danceability'])\n",
    "        energy.append(af['energy'])\n",
    "        key.append(af.get('key', -1))\n",
    "        loudness.append(af['loudness'])\n",
    "        mode.append(af['mode'])\n",
    "        speechiness.append(af['speechiness'])\n",
    "        acousticness.append(af['acousticness'])\n",
    "        instrumentalness.append(af['instrumentalness'])\n",
    "        liveness.append(af['liveness'])\n",
    "        valence.append(af['valence'])\n",
    "        tempo.append(af['tempo'])\n",
    "        duration_ms.append(af['duration_ms'])\n",
    "        time_signature.append(af['time_signature'])\n",
    "        track_href.append(af['track_href'])\n",
    "    else:\n",
    "        danceability.append(-99)\n",
    "        energy.append(-99)\n",
    "        key.append(-99)\n",
    "        loudness.append(-99)\n",
    "        mode.append(-99)\n",
    "        speechiness.append(-99)\n",
    "        acousticness.append(-99)\n",
    "        instrumentalness.append(-99)\n",
    "        liveness.append(-99)\n",
    "        valence.append(-99)\n",
    "        tempo.append(-99)\n",
    "        duration_ms.append(-99)\n",
    "        time_signature.append(-99)\n",
    "        track_href.append(-99)        \n"
   ]
  },
  {
   "cell_type": "code",
   "execution_count": 28,
   "metadata": {},
   "outputs": [
    {
     "data": {
      "text/plain": [
       "36229"
      ]
     },
     "execution_count": 28,
     "metadata": {},
     "output_type": "execute_result"
    }
   ],
   "source": [
    "len(danceability)"
   ]
  },
  {
   "cell_type": "code",
   "execution_count": 32,
   "metadata": {},
   "outputs": [
    {
     "data": {
      "text/html": [
       "<div>\n",
       "<style scoped>\n",
       "    .dataframe tbody tr th:only-of-type {\n",
       "        vertical-align: middle;\n",
       "    }\n",
       "\n",
       "    .dataframe tbody tr th {\n",
       "        vertical-align: top;\n",
       "    }\n",
       "\n",
       "    .dataframe thead th {\n",
       "        text-align: right;\n",
       "    }\n",
       "</style>\n",
       "<table border=\"1\" class=\"dataframe\">\n",
       "  <thead>\n",
       "    <tr style=\"text-align: right;\">\n",
       "      <th></th>\n",
       "      <th>danceability</th>\n",
       "      <th>energy</th>\n",
       "      <th>key</th>\n",
       "      <th>loudness</th>\n",
       "      <th>mode</th>\n",
       "      <th>speechiness</th>\n",
       "      <th>acousticness</th>\n",
       "      <th>instrumentalness</th>\n",
       "      <th>liveness</th>\n",
       "      <th>valence</th>\n",
       "      <th>tempo</th>\n",
       "      <th>duration_ms</th>\n",
       "      <th>time_signature</th>\n",
       "      <th>track_href</th>\n",
       "    </tr>\n",
       "  </thead>\n",
       "  <tbody>\n",
       "    <tr>\n",
       "      <th>0</th>\n",
       "      <td>0.691</td>\n",
       "      <td>0.519</td>\n",
       "      <td>0</td>\n",
       "      <td>-7.770</td>\n",
       "      <td>1</td>\n",
       "      <td>0.0353</td>\n",
       "      <td>0.686000</td>\n",
       "      <td>0.076700</td>\n",
       "      <td>0.2690</td>\n",
       "      <td>0.117</td>\n",
       "      <td>125.008</td>\n",
       "      <td>197045</td>\n",
       "      <td>4</td>\n",
       "      <td>https://api.spotify.com/v1/tracks/6YLlHjowYdcr...</td>\n",
       "    </tr>\n",
       "    <tr>\n",
       "      <th>1</th>\n",
       "      <td>0.690</td>\n",
       "      <td>0.890</td>\n",
       "      <td>0</td>\n",
       "      <td>-4.866</td>\n",
       "      <td>0</td>\n",
       "      <td>0.0507</td>\n",
       "      <td>0.009030</td>\n",
       "      <td>0.000016</td>\n",
       "      <td>0.1880</td>\n",
       "      <td>0.713</td>\n",
       "      <td>124.018</td>\n",
       "      <td>181478</td>\n",
       "      <td>4</td>\n",
       "      <td>https://api.spotify.com/v1/tracks/2F2p7b5Xq20m...</td>\n",
       "    </tr>\n",
       "    <tr>\n",
       "      <th>2</th>\n",
       "      <td>0.587</td>\n",
       "      <td>0.722</td>\n",
       "      <td>2</td>\n",
       "      <td>-6.983</td>\n",
       "      <td>0</td>\n",
       "      <td>0.0709</td>\n",
       "      <td>0.000754</td>\n",
       "      <td>0.668000</td>\n",
       "      <td>0.5430</td>\n",
       "      <td>0.466</td>\n",
       "      <td>121.964</td>\n",
       "      <td>180843</td>\n",
       "      <td>4</td>\n",
       "      <td>https://api.spotify.com/v1/tracks/17B9XlyyYDKk...</td>\n",
       "    </tr>\n",
       "    <tr>\n",
       "      <th>3</th>\n",
       "      <td>0.734</td>\n",
       "      <td>0.855</td>\n",
       "      <td>6</td>\n",
       "      <td>-4.578</td>\n",
       "      <td>0</td>\n",
       "      <td>0.1350</td>\n",
       "      <td>0.082100</td>\n",
       "      <td>0.000005</td>\n",
       "      <td>0.0901</td>\n",
       "      <td>0.540</td>\n",
       "      <td>121.955</td>\n",
       "      <td>139563</td>\n",
       "      <td>4</td>\n",
       "      <td>https://api.spotify.com/v1/tracks/1cYyZ1N98GyR...</td>\n",
       "    </tr>\n",
       "    <tr>\n",
       "      <th>4</th>\n",
       "      <td>0.400</td>\n",
       "      <td>0.915</td>\n",
       "      <td>0</td>\n",
       "      <td>-4.890</td>\n",
       "      <td>1</td>\n",
       "      <td>0.2800</td>\n",
       "      <td>0.084600</td>\n",
       "      <td>0.000000</td>\n",
       "      <td>0.0503</td>\n",
       "      <td>0.878</td>\n",
       "      <td>88.917</td>\n",
       "      <td>198773</td>\n",
       "      <td>3</td>\n",
       "      <td>https://api.spotify.com/v1/tracks/2a1o6ZejUi8U...</td>\n",
       "    </tr>\n",
       "  </tbody>\n",
       "</table>\n",
       "</div>"
      ],
      "text/plain": [
       "   danceability  energy  key  loudness  mode  speechiness  acousticness  \\\n",
       "0         0.691   0.519    0    -7.770     1       0.0353      0.686000   \n",
       "1         0.690   0.890    0    -4.866     0       0.0507      0.009030   \n",
       "2         0.587   0.722    2    -6.983     0       0.0709      0.000754   \n",
       "3         0.734   0.855    6    -4.578     0       0.1350      0.082100   \n",
       "4         0.400   0.915    0    -4.890     1       0.2800      0.084600   \n",
       "\n",
       "   instrumentalness  liveness  valence    tempo  duration_ms  time_signature  \\\n",
       "0          0.076700    0.2690    0.117  125.008       197045               4   \n",
       "1          0.000016    0.1880    0.713  124.018       181478               4   \n",
       "2          0.668000    0.5430    0.466  121.964       180843               4   \n",
       "3          0.000005    0.0901    0.540  121.955       139563               4   \n",
       "4          0.000000    0.0503    0.878   88.917       198773               3   \n",
       "\n",
       "                                          track_href  \n",
       "0  https://api.spotify.com/v1/tracks/6YLlHjowYdcr...  \n",
       "1  https://api.spotify.com/v1/tracks/2F2p7b5Xq20m...  \n",
       "2  https://api.spotify.com/v1/tracks/17B9XlyyYDKk...  \n",
       "3  https://api.spotify.com/v1/tracks/1cYyZ1N98GyR...  \n",
       "4  https://api.spotify.com/v1/tracks/2a1o6ZejUi8U...  "
      ]
     },
     "execution_count": 32,
     "metadata": {},
     "output_type": "execute_result"
    }
   ],
   "source": [
    "audio_features_dict = {\n",
    "    'danceability':danceability,\n",
    "    'energy':energy,\n",
    "    'key':key,\n",
    "    'loudness':loudness,\n",
    "    'mode':mode,\n",
    "    'speechiness':speechiness,\n",
    "    'acousticness':acousticness,\n",
    "    'instrumentalness':instrumentalness,\n",
    "    'liveness':liveness,\n",
    "    'valence':valence,\n",
    "    'tempo':tempo,\n",
    "    'duration_ms':duration_ms,\n",
    "    'time_signature':time_signature,\n",
    "    'track_href':track_href\n",
    "    }\n",
    "\n",
    "audio_features_df = pd.DataFrame(audio_features_dict)\n",
    "audio_features_df.head()"
   ]
  },
  {
   "cell_type": "code",
   "execution_count": 34,
   "metadata": {},
   "outputs": [
    {
     "data": {
      "text/html": [
       "<div>\n",
       "<style scoped>\n",
       "    .dataframe tbody tr th:only-of-type {\n",
       "        vertical-align: middle;\n",
       "    }\n",
       "\n",
       "    .dataframe tbody tr th {\n",
       "        vertical-align: top;\n",
       "    }\n",
       "\n",
       "    .dataframe thead th {\n",
       "        text-align: right;\n",
       "    }\n",
       "</style>\n",
       "<table border=\"1\" class=\"dataframe\">\n",
       "  <thead>\n",
       "    <tr style=\"text-align: right;\">\n",
       "      <th></th>\n",
       "      <th>track_id</th>\n",
       "      <th>track_href</th>\n",
       "    </tr>\n",
       "  </thead>\n",
       "  <tbody>\n",
       "    <tr>\n",
       "      <th>0</th>\n",
       "      <td>6YLlHjowYdcrULkRk4r4Ga</td>\n",
       "      <td>https://api.spotify.com/v1/tracks/6YLlHjowYdcr...</td>\n",
       "    </tr>\n",
       "    <tr>\n",
       "      <th>1</th>\n",
       "      <td>2F2p7b5Xq20mRyEeWYaeUF</td>\n",
       "      <td>https://api.spotify.com/v1/tracks/2F2p7b5Xq20m...</td>\n",
       "    </tr>\n",
       "    <tr>\n",
       "      <th>2</th>\n",
       "      <td>17B9XlyyYDKkTmPay4z02V</td>\n",
       "      <td>https://api.spotify.com/v1/tracks/17B9XlyyYDKk...</td>\n",
       "    </tr>\n",
       "    <tr>\n",
       "      <th>3</th>\n",
       "      <td>1cYyZ1N98GyRS3cMcccFHd</td>\n",
       "      <td>https://api.spotify.com/v1/tracks/1cYyZ1N98GyR...</td>\n",
       "    </tr>\n",
       "    <tr>\n",
       "      <th>4</th>\n",
       "      <td>2a1o6ZejUi8U3wzzOtCOYw</td>\n",
       "      <td>https://api.spotify.com/v1/tracks/2a1o6ZejUi8U...</td>\n",
       "    </tr>\n",
       "    <tr>\n",
       "      <th>...</th>\n",
       "      <td>...</td>\n",
       "      <td>...</td>\n",
       "    </tr>\n",
       "    <tr>\n",
       "      <th>36224</th>\n",
       "      <td>7npNvZnmP6lmVH0TcVJuRC</td>\n",
       "      <td>https://api.spotify.com/v1/tracks/7npNvZnmP6lm...</td>\n",
       "    </tr>\n",
       "    <tr>\n",
       "      <th>36225</th>\n",
       "      <td>20ooL92gUFrwz5AwSGEjNy</td>\n",
       "      <td>https://api.spotify.com/v1/tracks/20ooL92gUFrw...</td>\n",
       "    </tr>\n",
       "    <tr>\n",
       "      <th>36226</th>\n",
       "      <td>6q5lmTclsSZqUHcX4ovGBy</td>\n",
       "      <td>https://api.spotify.com/v1/tracks/6q5lmTclsSZq...</td>\n",
       "    </tr>\n",
       "    <tr>\n",
       "      <th>36227</th>\n",
       "      <td>4Ggs9ddCiXMhjSYmvBBUuU</td>\n",
       "      <td>https://api.spotify.com/v1/tracks/4Ggs9ddCiXMh...</td>\n",
       "    </tr>\n",
       "    <tr>\n",
       "      <th>36228</th>\n",
       "      <td>6yqxM7jzslZdhNzUHvb8YG</td>\n",
       "      <td>https://api.spotify.com/v1/tracks/6yqxM7jzslZd...</td>\n",
       "    </tr>\n",
       "  </tbody>\n",
       "</table>\n",
       "<p>36229 rows × 2 columns</p>\n",
       "</div>"
      ],
      "text/plain": [
       "                     track_id  \\\n",
       "0      6YLlHjowYdcrULkRk4r4Ga   \n",
       "1      2F2p7b5Xq20mRyEeWYaeUF   \n",
       "2      17B9XlyyYDKkTmPay4z02V   \n",
       "3      1cYyZ1N98GyRS3cMcccFHd   \n",
       "4      2a1o6ZejUi8U3wzzOtCOYw   \n",
       "...                       ...   \n",
       "36224  7npNvZnmP6lmVH0TcVJuRC   \n",
       "36225  20ooL92gUFrwz5AwSGEjNy   \n",
       "36226  6q5lmTclsSZqUHcX4ovGBy   \n",
       "36227  4Ggs9ddCiXMhjSYmvBBUuU   \n",
       "36228  6yqxM7jzslZdhNzUHvb8YG   \n",
       "\n",
       "                                              track_href  \n",
       "0      https://api.spotify.com/v1/tracks/6YLlHjowYdcr...  \n",
       "1      https://api.spotify.com/v1/tracks/2F2p7b5Xq20m...  \n",
       "2      https://api.spotify.com/v1/tracks/17B9XlyyYDKk...  \n",
       "3      https://api.spotify.com/v1/tracks/1cYyZ1N98GyR...  \n",
       "4      https://api.spotify.com/v1/tracks/2a1o6ZejUi8U...  \n",
       "...                                                  ...  \n",
       "36224  https://api.spotify.com/v1/tracks/7npNvZnmP6lm...  \n",
       "36225  https://api.spotify.com/v1/tracks/20ooL92gUFrw...  \n",
       "36226  https://api.spotify.com/v1/tracks/6q5lmTclsSZq...  \n",
       "36227  https://api.spotify.com/v1/tracks/4Ggs9ddCiXMh...  \n",
       "36228  https://api.spotify.com/v1/tracks/6yqxM7jzslZd...  \n",
       "\n",
       "[36229 rows x 2 columns]"
      ]
     },
     "execution_count": 34,
     "metadata": {},
     "output_type": "execute_result"
    }
   ],
   "source": [
    "tracks_and_features_df = pd.concat([df_tracks, audio_features_df],axis=1)\n",
    "tracks_and_features_df[['track_id','track_href']]"
   ]
  },
  {
   "cell_type": "code",
   "execution_count": 37,
   "metadata": {},
   "outputs": [],
   "source": [
    "# remove items we have missing audio features for\n",
    "tracks_and_features_df = tracks_and_features_df[tracks_and_features_df['key']>=0]"
   ]
  },
  {
   "cell_type": "code",
   "execution_count": 40,
   "metadata": {},
   "outputs": [
    {
     "data": {
      "text/plain": [
       "album_release_date_precision\n",
       "day      34272\n",
       "year      1795\n",
       "month       54\n",
       "Name: count, dtype: int64"
      ]
     },
     "execution_count": 40,
     "metadata": {},
     "output_type": "execute_result"
    }
   ],
   "source": [
    "tracks_and_features_df['album_release_date_precision'].value_counts()"
   ]
  },
  {
   "cell_type": "code",
   "execution_count": 45,
   "metadata": {},
   "outputs": [
    {
     "name": "stderr",
     "output_type": "stream",
     "text": [
      "C:\\Users\\andys\\AppData\\Local\\Temp\\ipykernel_27408\\4289619623.py:1: SettingWithCopyWarning: \n",
      "A value is trying to be set on a copy of a slice from a DataFrame.\n",
      "Try using .loc[row_indexer,col_indexer] = value instead\n",
      "\n",
      "See the caveats in the documentation: https://pandas.pydata.org/pandas-docs/stable/user_guide/indexing.html#returning-a-view-versus-a-copy\n",
      "  tracks_and_features_df['album_release_year'] = tracks_and_features_df['album_release_date'].map(lambda x:x[:4])\n"
     ]
    }
   ],
   "source": [
    "tracks_and_features_df['album_release_year'] = tracks_and_features_df['album_release_date'].map(lambda x:x[:4])"
   ]
  },
  {
   "cell_type": "code",
   "execution_count": 54,
   "metadata": {},
   "outputs": [
    {
     "data": {
      "text/plain": [
       "(111, 24)"
      ]
     },
     "execution_count": 54,
     "metadata": {},
     "output_type": "execute_result"
    }
   ],
   "source": [
    "tracks_and_features_df[tracks_and_features_df['album_release_year']=='1990'].shape"
   ]
  },
  {
   "cell_type": "code",
   "execution_count": 57,
   "metadata": {},
   "outputs": [
    {
     "data": {
      "text/plain": [
       "(1, 24)"
      ]
     },
     "execution_count": 57,
     "metadata": {},
     "output_type": "execute_result"
    }
   ],
   "source": [
    "tracks_and_features_df[tracks_and_features_df['album_release_year']=='0000'].shape"
   ]
  },
  {
   "cell_type": "code",
   "execution_count": 60,
   "metadata": {},
   "outputs": [
    {
     "name": "stderr",
     "output_type": "stream",
     "text": [
      "C:\\Users\\andys\\AppData\\Local\\Temp\\ipykernel_27408\\2792204969.py:1: SettingWithCopyWarning: \n",
      "A value is trying to be set on a copy of a slice from a DataFrame.\n",
      "Try using .loc[row_indexer,col_indexer] = value instead\n",
      "\n",
      "See the caveats in the documentation: https://pandas.pydata.org/pandas-docs/stable/user_guide/indexing.html#returning-a-view-versus-a-copy\n",
      "  tracks_and_features_df['album_release_year'] = pd.to_numeric(tracks_and_features_df['album_release_year'])\n"
     ]
    },
    {
     "data": {
      "text/plain": [
       "artist_id                        object\n",
       "artist_name                      object\n",
       "track_id                         object\n",
       "track_name                       object\n",
       "album_release_date               object\n",
       "album_release_date_precision     object\n",
       "is_explicit                        bool\n",
       "duration_ms                       int64\n",
       "popularity                        int64\n",
       "danceability                    float64\n",
       "energy                          float64\n",
       "key                               int64\n",
       "loudness                        float64\n",
       "mode                              int64\n",
       "speechiness                     float64\n",
       "acousticness                    float64\n",
       "instrumentalness                float64\n",
       "liveness                        float64\n",
       "valence                         float64\n",
       "tempo                           float64\n",
       "duration_ms                       int64\n",
       "time_signature                    int64\n",
       "track_href                       object\n",
       "album_release_year                int64\n",
       "dtype: object"
      ]
     },
     "execution_count": 60,
     "metadata": {},
     "output_type": "execute_result"
    }
   ],
   "source": [
    "tracks_and_features_df['album_release_year'] = pd.to_numeric(tracks_and_features_df['album_release_year'])\n",
    "tracks_and_features_df.dtypes"
   ]
  },
  {
   "cell_type": "code",
   "execution_count": 61,
   "metadata": {},
   "outputs": [
    {
     "name": "stderr",
     "output_type": "stream",
     "text": [
      "C:\\Users\\andys\\AppData\\Local\\Temp\\ipykernel_27408\\2964570150.py:1: SettingWithCopyWarning: \n",
      "A value is trying to be set on a copy of a slice from a DataFrame.\n",
      "Try using .loc[row_indexer,col_indexer] = value instead\n",
      "\n",
      "See the caveats in the documentation: https://pandas.pydata.org/pandas-docs/stable/user_guide/indexing.html#returning-a-view-versus-a-copy\n",
      "  tracks_and_features_df['album_release_decade'] = tracks_and_features_df['album_release_year'] // 10 * 10\n"
     ]
    },
    {
     "data": {
      "text/html": [
       "<div>\n",
       "<style scoped>\n",
       "    .dataframe tbody tr th:only-of-type {\n",
       "        vertical-align: middle;\n",
       "    }\n",
       "\n",
       "    .dataframe tbody tr th {\n",
       "        vertical-align: top;\n",
       "    }\n",
       "\n",
       "    .dataframe thead th {\n",
       "        text-align: right;\n",
       "    }\n",
       "</style>\n",
       "<table border=\"1\" class=\"dataframe\">\n",
       "  <thead>\n",
       "    <tr style=\"text-align: right;\">\n",
       "      <th></th>\n",
       "      <th>album_release_year</th>\n",
       "      <th>album_release_decade</th>\n",
       "    </tr>\n",
       "  </thead>\n",
       "  <tbody>\n",
       "    <tr>\n",
       "      <th>0</th>\n",
       "      <td>1900</td>\n",
       "      <td>1900</td>\n",
       "    </tr>\n",
       "    <tr>\n",
       "      <th>1</th>\n",
       "      <td>2023</td>\n",
       "      <td>2020</td>\n",
       "    </tr>\n",
       "    <tr>\n",
       "      <th>2</th>\n",
       "      <td>2020</td>\n",
       "      <td>2020</td>\n",
       "    </tr>\n",
       "    <tr>\n",
       "      <th>3</th>\n",
       "      <td>2022</td>\n",
       "      <td>2020</td>\n",
       "    </tr>\n",
       "    <tr>\n",
       "      <th>4</th>\n",
       "      <td>2010</td>\n",
       "      <td>2010</td>\n",
       "    </tr>\n",
       "    <tr>\n",
       "      <th>...</th>\n",
       "      <td>...</td>\n",
       "      <td>...</td>\n",
       "    </tr>\n",
       "    <tr>\n",
       "      <th>36224</th>\n",
       "      <td>2023</td>\n",
       "      <td>2020</td>\n",
       "    </tr>\n",
       "    <tr>\n",
       "      <th>36225</th>\n",
       "      <td>2023</td>\n",
       "      <td>2020</td>\n",
       "    </tr>\n",
       "    <tr>\n",
       "      <th>36226</th>\n",
       "      <td>2023</td>\n",
       "      <td>2020</td>\n",
       "    </tr>\n",
       "    <tr>\n",
       "      <th>36227</th>\n",
       "      <td>2023</td>\n",
       "      <td>2020</td>\n",
       "    </tr>\n",
       "    <tr>\n",
       "      <th>36228</th>\n",
       "      <td>2023</td>\n",
       "      <td>2020</td>\n",
       "    </tr>\n",
       "  </tbody>\n",
       "</table>\n",
       "<p>36121 rows × 2 columns</p>\n",
       "</div>"
      ],
      "text/plain": [
       "       album_release_year  album_release_decade\n",
       "0                    1900                  1900\n",
       "1                    2023                  2020\n",
       "2                    2020                  2020\n",
       "3                    2022                  2020\n",
       "4                    2010                  2010\n",
       "...                   ...                   ...\n",
       "36224                2023                  2020\n",
       "36225                2023                  2020\n",
       "36226                2023                  2020\n",
       "36227                2023                  2020\n",
       "36228                2023                  2020\n",
       "\n",
       "[36121 rows x 2 columns]"
      ]
     },
     "execution_count": 61,
     "metadata": {},
     "output_type": "execute_result"
    }
   ],
   "source": [
    "tracks_and_features_df['album_release_decade'] = tracks_and_features_df['album_release_year'] // 10 * 10\n",
    "tracks_and_features_df[['album_release_year','album_release_decade']]"
   ]
  },
  {
   "cell_type": "code",
   "execution_count": 62,
   "metadata": {},
   "outputs": [],
   "source": [
    "tracks_and_features_df = tracks_and_features_df.copy()"
   ]
  },
  {
   "cell_type": "code",
   "execution_count": 64,
   "metadata": {},
   "outputs": [
    {
     "data": {
      "text/plain": [
       "Index(['artist_id', 'artist_name', 'track_id', 'track_name',\n",
       "       'album_release_date', 'album_release_date_precision', 'is_explicit',\n",
       "       'duration_ms', 'popularity', 'danceability', 'energy', 'key',\n",
       "       'loudness', 'mode', 'speechiness', 'acousticness', 'instrumentalness',\n",
       "       'liveness', 'valence', 'tempo', 'duration_ms', 'time_signature',\n",
       "       'track_href', 'album_release_year', 'album_release_decade'],\n",
       "      dtype='object')"
      ]
     },
     "execution_count": 64,
     "metadata": {},
     "output_type": "execute_result"
    }
   ],
   "source": [
    "tracks_and_features_df.columns"
   ]
  },
  {
   "cell_type": "code",
   "execution_count": 65,
   "metadata": {},
   "outputs": [],
   "source": [
    "audio_features_model_on = ['is_explicit','duration_ms','popularity', 'danceability', 'energy', 'key',\n",
    "       'loudness', 'mode', 'speechiness', 'acousticness', 'instrumentalness',\n",
    "       'liveness', 'valence', 'tempo', 'duration_ms', 'time_signature']\n",
    "features_df = tracks_and_features_df[audio_features_model_on]"
   ]
  },
  {
   "cell_type": "code",
   "execution_count": 69,
   "metadata": {},
   "outputs": [],
   "source": [
    "tracks_and_features_df.to_csv('tracks_and_features.csv', index=False)\n",
    "features_df.to_csv('features.csv', index=False)"
   ]
  }
 ],
 "metadata": {
  "kernelspec": {
   "display_name": "Python 3",
   "language": "python",
   "name": "python3"
  },
  "language_info": {
   "codemirror_mode": {
    "name": "ipython",
    "version": 3
   },
   "file_extension": ".py",
   "mimetype": "text/x-python",
   "name": "python",
   "nbconvert_exporter": "python",
   "pygments_lexer": "ipython3",
   "version": "3.12.0"
  }
 },
 "nbformat": 4,
 "nbformat_minor": 2
}
