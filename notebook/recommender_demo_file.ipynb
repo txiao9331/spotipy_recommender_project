{
 "cells": [
  {
   "cell_type": "code",
   "execution_count": 1,
   "metadata": {},
   "outputs": [],
   "source": [
    "# import pandas as pd\n",
    "import melo_func as mf"
   ]
  },
  {
   "cell_type": "markdown",
   "metadata": {},
   "source": [
    "# 1. Search for user's input"
   ]
  },
  {
   "cell_type": "markdown",
   "metadata": {},
   "source": [
    "## 1.1 Request user to input the name of a song"
   ]
  },
  {
   "cell_type": "code",
   "execution_count": 2,
   "metadata": {},
   "outputs": [
    {
     "data": {
      "text/plain": [
       "'drunk in love'"
      ]
     },
     "execution_count": 2,
     "metadata": {},
     "output_type": "execute_result"
    }
   ],
   "source": [
    "song = input('Please write a song that you like : ')\n",
    "song"
   ]
  },
  {
   "cell_type": "markdown",
   "metadata": {},
   "source": [
    "## 1.2 finding matching tracks on spotify"
   ]
  },
  {
   "cell_type": "code",
   "execution_count": 3,
   "metadata": {},
   "outputs": [
    {
     "name": "stdout",
     "output_type": "stream",
     "text": [
      "Results 1-5:\n"
     ]
    },
    {
     "data": {
      "text/html": [
       "<div>\n",
       "<style scoped>\n",
       "    .dataframe tbody tr th:only-of-type {\n",
       "        vertical-align: middle;\n",
       "    }\n",
       "\n",
       "    .dataframe tbody tr th {\n",
       "        vertical-align: top;\n",
       "    }\n",
       "\n",
       "    .dataframe thead th {\n",
       "        text-align: right;\n",
       "    }\n",
       "</style>\n",
       "<table border=\"1\" class=\"dataframe\">\n",
       "  <thead>\n",
       "    <tr style=\"text-align: right;\">\n",
       "      <th></th>\n",
       "      <th>track_id</th>\n",
       "      <th>track_name</th>\n",
       "      <th>artist_names</th>\n",
       "      <th>number</th>\n",
       "    </tr>\n",
       "  </thead>\n",
       "  <tbody>\n",
       "    <tr>\n",
       "      <th>0</th>\n",
       "      <td>6jG2YzhxptolDzLHTGLt7S</td>\n",
       "      <td>Drunk in Love (feat. Jay-Z)</td>\n",
       "      <td>Beyoncé, JAY-Z</td>\n",
       "      <td>1</td>\n",
       "    </tr>\n",
       "    <tr>\n",
       "      <th>1</th>\n",
       "      <td>71BqAINEnezjQfxE4VuJfq</td>\n",
       "      <td>\"Slut!\" (Taylor's Version) (From The Vault)</td>\n",
       "      <td>Taylor Swift</td>\n",
       "      <td>2</td>\n",
       "    </tr>\n",
       "    <tr>\n",
       "      <th>2</th>\n",
       "      <td>0FZmAvivvifvtN3pZScbw1</td>\n",
       "      <td>Drunk in Love Remix (feat. Jay-Z &amp; Kanye West)</td>\n",
       "      <td>Beyoncé, JAY-Z, Kanye West</td>\n",
       "      <td>3</td>\n",
       "    </tr>\n",
       "    <tr>\n",
       "      <th>3</th>\n",
       "      <td>2Kv64a8vbcFvZTguW87jrb</td>\n",
       "      <td>Drunk In Love (feat. The Weeknd) [Remix]</td>\n",
       "      <td>T.I., The Weeknd</td>\n",
       "      <td>4</td>\n",
       "    </tr>\n",
       "    <tr>\n",
       "      <th>4</th>\n",
       "      <td>02dRkCEc8Q5ch4TTcnLxOn</td>\n",
       "      <td>Nothing Breaks Like a Heart (feat. Miley Cyrus)</td>\n",
       "      <td>Mark Ronson, Miley Cyrus</td>\n",
       "      <td>5</td>\n",
       "    </tr>\n",
       "  </tbody>\n",
       "</table>\n",
       "</div>"
      ],
      "text/plain": [
       "                 track_id                                       track_name  \\\n",
       "0  6jG2YzhxptolDzLHTGLt7S                      Drunk in Love (feat. Jay-Z)   \n",
       "1  71BqAINEnezjQfxE4VuJfq      \"Slut!\" (Taylor's Version) (From The Vault)   \n",
       "2  0FZmAvivvifvtN3pZScbw1   Drunk in Love Remix (feat. Jay-Z & Kanye West)   \n",
       "3  2Kv64a8vbcFvZTguW87jrb         Drunk In Love (feat. The Weeknd) [Remix]   \n",
       "4  02dRkCEc8Q5ch4TTcnLxOn  Nothing Breaks Like a Heart (feat. Miley Cyrus)   \n",
       "\n",
       "                 artist_names  number  \n",
       "0              Beyoncé, JAY-Z       1  \n",
       "1                Taylor Swift       2  \n",
       "2  Beyoncé, JAY-Z, Kanye West       3  \n",
       "3            T.I., The Weeknd       4  \n",
       "4    Mark Ronson, Miley Cyrus       5  "
      ]
     },
     "metadata": {},
     "output_type": "display_data"
    }
   ],
   "source": [
    "# ask for user if results satisfy, if not, redo the search \n",
    "# tracks_df = pd.DataFrame()\n",
    "tracks_df = mf.find_song(song)"
   ]
  },
  {
   "cell_type": "code",
   "execution_count": 4,
   "metadata": {},
   "outputs": [
    {
     "data": {
      "text/html": [
       "<div>\n",
       "<style scoped>\n",
       "    .dataframe tbody tr th:only-of-type {\n",
       "        vertical-align: middle;\n",
       "    }\n",
       "\n",
       "    .dataframe tbody tr th {\n",
       "        vertical-align: top;\n",
       "    }\n",
       "\n",
       "    .dataframe thead th {\n",
       "        text-align: right;\n",
       "    }\n",
       "</style>\n",
       "<table border=\"1\" class=\"dataframe\">\n",
       "  <thead>\n",
       "    <tr style=\"text-align: right;\">\n",
       "      <th></th>\n",
       "      <th>track_id</th>\n",
       "      <th>track_name</th>\n",
       "      <th>artist_names</th>\n",
       "      <th>number</th>\n",
       "    </tr>\n",
       "  </thead>\n",
       "  <tbody>\n",
       "    <tr>\n",
       "      <th>0</th>\n",
       "      <td>6jG2YzhxptolDzLHTGLt7S</td>\n",
       "      <td>Drunk in Love (feat. Jay-Z)</td>\n",
       "      <td>Beyoncé, JAY-Z</td>\n",
       "      <td>1</td>\n",
       "    </tr>\n",
       "    <tr>\n",
       "      <th>1</th>\n",
       "      <td>71BqAINEnezjQfxE4VuJfq</td>\n",
       "      <td>\"Slut!\" (Taylor's Version) (From The Vault)</td>\n",
       "      <td>Taylor Swift</td>\n",
       "      <td>2</td>\n",
       "    </tr>\n",
       "    <tr>\n",
       "      <th>2</th>\n",
       "      <td>0FZmAvivvifvtN3pZScbw1</td>\n",
       "      <td>Drunk in Love Remix (feat. Jay-Z &amp; Kanye West)</td>\n",
       "      <td>Beyoncé, JAY-Z, Kanye West</td>\n",
       "      <td>3</td>\n",
       "    </tr>\n",
       "    <tr>\n",
       "      <th>3</th>\n",
       "      <td>2Kv64a8vbcFvZTguW87jrb</td>\n",
       "      <td>Drunk In Love (feat. The Weeknd) [Remix]</td>\n",
       "      <td>T.I., The Weeknd</td>\n",
       "      <td>4</td>\n",
       "    </tr>\n",
       "    <tr>\n",
       "      <th>4</th>\n",
       "      <td>02dRkCEc8Q5ch4TTcnLxOn</td>\n",
       "      <td>Nothing Breaks Like a Heart (feat. Miley Cyrus)</td>\n",
       "      <td>Mark Ronson, Miley Cyrus</td>\n",
       "      <td>5</td>\n",
       "    </tr>\n",
       "  </tbody>\n",
       "</table>\n",
       "</div>"
      ],
      "text/plain": [
       "                 track_id                                       track_name  \\\n",
       "0  6jG2YzhxptolDzLHTGLt7S                      Drunk in Love (feat. Jay-Z)   \n",
       "1  71BqAINEnezjQfxE4VuJfq      \"Slut!\" (Taylor's Version) (From The Vault)   \n",
       "2  0FZmAvivvifvtN3pZScbw1   Drunk in Love Remix (feat. Jay-Z & Kanye West)   \n",
       "3  2Kv64a8vbcFvZTguW87jrb         Drunk In Love (feat. The Weeknd) [Remix]   \n",
       "4  02dRkCEc8Q5ch4TTcnLxOn  Nothing Breaks Like a Heart (feat. Miley Cyrus)   \n",
       "\n",
       "                 artist_names  number  \n",
       "0              Beyoncé, JAY-Z       1  \n",
       "1                Taylor Swift       2  \n",
       "2  Beyoncé, JAY-Z, Kanye West       3  \n",
       "3            T.I., The Weeknd       4  \n",
       "4    Mark Ronson, Miley Cyrus       5  "
      ]
     },
     "execution_count": 4,
     "metadata": {},
     "output_type": "execute_result"
    }
   ],
   "source": [
    "tracks_df"
   ]
  },
  {
   "cell_type": "markdown",
   "metadata": {},
   "source": [
    "## 1.3 request user to select the track"
   ]
  },
  {
   "cell_type": "code",
   "execution_count": 5,
   "metadata": {},
   "outputs": [],
   "source": [
    "track_id = mf.select_track(tracks_df)"
   ]
  },
  {
   "cell_type": "markdown",
   "metadata": {},
   "source": [
    "## 1.4 Embeded track player"
   ]
  },
  {
   "cell_type": "code",
   "execution_count": 6,
   "metadata": {},
   "outputs": [
    {
     "data": {
      "text/html": [
       "\n",
       "        <iframe\n",
       "            width=\"320\"\n",
       "            height=\"80\"\n",
       "            src=\"https://open.spotify.com/embed/track/6jG2YzhxptolDzLHTGLt7S?utm_source=generator?frameborder=0&allowtransparency=true&allow=encrypted-media\"\n",
       "            frameborder=\"0\"\n",
       "            allowfullscreen\n",
       "            \n",
       "        ></iframe>\n",
       "        "
      ],
      "text/plain": [
       "<IPython.lib.display.IFrame at 0x234dc6b5e80>"
      ]
     },
     "execution_count": 6,
     "metadata": {},
     "output_type": "execute_result"
    }
   ],
   "source": [
    "mf.embed_track(track_id)"
   ]
  },
  {
   "cell_type": "markdown",
   "metadata": {},
   "source": [
    "# 2. Recommendation 3 songs according to the track features of user's choice"
   ]
  },
  {
   "cell_type": "markdown",
   "metadata": {},
   "source": [
    "## 2.1 features of user's track"
   ]
  },
  {
   "cell_type": "code",
   "execution_count": 19,
   "metadata": {},
   "outputs": [
    {
     "data": {
      "text/html": [
       "<div>\n",
       "<style scoped>\n",
       "    .dataframe tbody tr th:only-of-type {\n",
       "        vertical-align: middle;\n",
       "    }\n",
       "\n",
       "    .dataframe tbody tr th {\n",
       "        vertical-align: top;\n",
       "    }\n",
       "\n",
       "    .dataframe thead th {\n",
       "        text-align: right;\n",
       "    }\n",
       "</style>\n",
       "<table border=\"1\" class=\"dataframe\">\n",
       "  <thead>\n",
       "    <tr style=\"text-align: right;\">\n",
       "      <th></th>\n",
       "      <th>is_explicit</th>\n",
       "      <th>popularity</th>\n",
       "      <th>danceability</th>\n",
       "      <th>energy</th>\n",
       "      <th>key</th>\n",
       "      <th>loudness</th>\n",
       "      <th>mode</th>\n",
       "      <th>speechiness</th>\n",
       "      <th>acousticness</th>\n",
       "      <th>instrumentalness</th>\n",
       "      <th>liveness</th>\n",
       "      <th>valence</th>\n",
       "      <th>tempo</th>\n",
       "      <th>time_signature</th>\n",
       "    </tr>\n",
       "  </thead>\n",
       "  <tbody>\n",
       "    <tr>\n",
       "      <th>user_track</th>\n",
       "      <td>False</td>\n",
       "      <td>51</td>\n",
       "      <td>0.583</td>\n",
       "      <td>0.621</td>\n",
       "      <td>5</td>\n",
       "      <td>-6.902</td>\n",
       "      <td>0</td>\n",
       "      <td>0.0479</td>\n",
       "      <td>0.00972</td>\n",
       "      <td>0.00106</td>\n",
       "      <td>0.181</td>\n",
       "      <td>0.399</td>\n",
       "      <td>140.036</td>\n",
       "      <td>4</td>\n",
       "    </tr>\n",
       "  </tbody>\n",
       "</table>\n",
       "</div>"
      ],
      "text/plain": [
       "            is_explicit  popularity  danceability  energy  key  loudness  \\\n",
       "user_track        False          51         0.583   0.621    5    -6.902   \n",
       "\n",
       "            mode  speechiness  acousticness  instrumentalness  liveness  \\\n",
       "user_track     0       0.0479       0.00972           0.00106     0.181   \n",
       "\n",
       "            valence    tempo  time_signature  \n",
       "user_track    0.399  140.036               4  "
      ]
     },
     "execution_count": 19,
     "metadata": {},
     "output_type": "execute_result"
    }
   ],
   "source": [
    "user_features = mf.user_track_features(track_id)\n",
    "user_features"
   ]
  },
  {
   "cell_type": "code",
   "execution_count": 8,
   "metadata": {},
   "outputs": [
    {
     "data": {
      "text/plain": [
       "2"
      ]
     },
     "execution_count": 8,
     "metadata": {},
     "output_type": "execute_result"
    }
   ],
   "source": [
    "user_cluster = mf.user_predict_km100(user_features)\n",
    "user_cluster"
   ]
  },
  {
   "cell_type": "code",
   "execution_count": 9,
   "metadata": {},
   "outputs": [
    {
     "data": {
      "text/html": [
       "<div>\n",
       "<style scoped>\n",
       "    .dataframe tbody tr th:only-of-type {\n",
       "        vertical-align: middle;\n",
       "    }\n",
       "\n",
       "    .dataframe tbody tr th {\n",
       "        vertical-align: top;\n",
       "    }\n",
       "\n",
       "    .dataframe thead th {\n",
       "        text-align: right;\n",
       "    }\n",
       "</style>\n",
       "<table border=\"1\" class=\"dataframe\">\n",
       "  <thead>\n",
       "    <tr style=\"text-align: right;\">\n",
       "      <th></th>\n",
       "      <th>artist_id</th>\n",
       "      <th>artist_name</th>\n",
       "      <th>track_id</th>\n",
       "      <th>track_name</th>\n",
       "    </tr>\n",
       "  </thead>\n",
       "  <tbody>\n",
       "    <tr>\n",
       "      <th>0</th>\n",
       "      <td>49CE2ffZ6Z3zeYSDauSKck</td>\n",
       "      <td>Tungevaag</td>\n",
       "      <td>74CkeJ0vYYTdQImnaLy759</td>\n",
       "      <td>Ride With Me (feat. Kid Ink) - Brennan Heart R...</td>\n",
       "    </tr>\n",
       "    <tr>\n",
       "      <th>1</th>\n",
       "      <td>0IQF3RvCO0IkvmGj0RvOcA</td>\n",
       "      <td>MDNS</td>\n",
       "      <td>4GOG95hr3s2BE4iV9DE1R4</td>\n",
       "      <td>4000</td>\n",
       "    </tr>\n",
       "    <tr>\n",
       "      <th>2</th>\n",
       "      <td>6msJKphD3VXZPItnztefdH</td>\n",
       "      <td>Stateless</td>\n",
       "      <td>5I2UElY0XPnPhQhBTxBcq3</td>\n",
       "      <td>Bloodstream</td>\n",
       "    </tr>\n",
       "  </tbody>\n",
       "</table>\n",
       "</div>"
      ],
      "text/plain": [
       "                artist_id artist_name                track_id  \\\n",
       "0  49CE2ffZ6Z3zeYSDauSKck   Tungevaag  74CkeJ0vYYTdQImnaLy759   \n",
       "1  0IQF3RvCO0IkvmGj0RvOcA        MDNS  4GOG95hr3s2BE4iV9DE1R4   \n",
       "2  6msJKphD3VXZPItnztefdH   Stateless  5I2UElY0XPnPhQhBTxBcq3   \n",
       "\n",
       "                                          track_name  \n",
       "0  Ride With Me (feat. Kid Ink) - Brennan Heart R...  \n",
       "1                                               4000  \n",
       "2                                        Bloodstream  "
      ]
     },
     "metadata": {},
     "output_type": "display_data"
    },
    {
     "data": {
      "text/html": [
       "<div>\n",
       "<style scoped>\n",
       "    .dataframe tbody tr th:only-of-type {\n",
       "        vertical-align: middle;\n",
       "    }\n",
       "\n",
       "    .dataframe tbody tr th {\n",
       "        vertical-align: top;\n",
       "    }\n",
       "\n",
       "    .dataframe thead th {\n",
       "        text-align: right;\n",
       "    }\n",
       "</style>\n",
       "<table border=\"1\" class=\"dataframe\">\n",
       "  <thead>\n",
       "    <tr style=\"text-align: right;\">\n",
       "      <th></th>\n",
       "      <th>artist_id</th>\n",
       "      <th>artist_name</th>\n",
       "      <th>track_id</th>\n",
       "      <th>track_name</th>\n",
       "    </tr>\n",
       "  </thead>\n",
       "  <tbody>\n",
       "    <tr>\n",
       "      <th>0</th>\n",
       "      <td>3IdBTyWXb31wzm0OYIZVP3</td>\n",
       "      <td>Naty Hrychová</td>\n",
       "      <td>1yFp9g9qSDKcX78YsznBsS</td>\n",
       "      <td>Overdosed</td>\n",
       "    </tr>\n",
       "    <tr>\n",
       "      <th>1</th>\n",
       "      <td>6uQH4UQMMq9H6Fxd97rXlK</td>\n",
       "      <td>JEMIYO</td>\n",
       "      <td>7iD68JrDgIOYagCu0r1oCK</td>\n",
       "      <td>Kilode</td>\n",
       "    </tr>\n",
       "    <tr>\n",
       "      <th>2</th>\n",
       "      <td>3aS15wWCmzXkFRIvbu2KUd</td>\n",
       "      <td>Eva Rapdiva</td>\n",
       "      <td>0xdYdzu9XSwKTRjOWWUEgS</td>\n",
       "      <td>Tudo de Novo</td>\n",
       "    </tr>\n",
       "  </tbody>\n",
       "</table>\n",
       "</div>"
      ],
      "text/plain": [
       "                artist_id    artist_name                track_id    track_name\n",
       "0  3IdBTyWXb31wzm0OYIZVP3  Naty Hrychová  1yFp9g9qSDKcX78YsznBsS     Overdosed\n",
       "1  6uQH4UQMMq9H6Fxd97rXlK         JEMIYO  7iD68JrDgIOYagCu0r1oCK        Kilode\n",
       "2  3aS15wWCmzXkFRIvbu2KUd    Eva Rapdiva  0xdYdzu9XSwKTRjOWWUEgS  Tudo de Novo"
      ]
     },
     "metadata": {},
     "output_type": "display_data"
    }
   ],
   "source": [
    "tracks_recommendation_random = mf.recommendation(user_cluster)"
   ]
  },
  {
   "cell_type": "code",
   "execution_count": 10,
   "metadata": {},
   "outputs": [
    {
     "name": "stdout",
     "output_type": "stream",
     "text": [
      "Here are recommendations for you !\n"
     ]
    },
    {
     "data": {
      "text/html": [
       "<div>\n",
       "<style scoped>\n",
       "    .dataframe tbody tr th:only-of-type {\n",
       "        vertical-align: middle;\n",
       "    }\n",
       "\n",
       "    .dataframe tbody tr th {\n",
       "        vertical-align: top;\n",
       "    }\n",
       "\n",
       "    .dataframe thead th {\n",
       "        text-align: right;\n",
       "    }\n",
       "</style>\n",
       "<table border=\"1\" class=\"dataframe\">\n",
       "  <thead>\n",
       "    <tr style=\"text-align: right;\">\n",
       "      <th></th>\n",
       "      <th>artist_id</th>\n",
       "      <th>artist_name</th>\n",
       "      <th>track_id</th>\n",
       "      <th>track_name</th>\n",
       "    </tr>\n",
       "  </thead>\n",
       "  <tbody>\n",
       "    <tr>\n",
       "      <th>0</th>\n",
       "      <td>3IdBTyWXb31wzm0OYIZVP3</td>\n",
       "      <td>Naty Hrychová</td>\n",
       "      <td>1yFp9g9qSDKcX78YsznBsS</td>\n",
       "      <td>Overdosed</td>\n",
       "    </tr>\n",
       "    <tr>\n",
       "      <th>1</th>\n",
       "      <td>6uQH4UQMMq9H6Fxd97rXlK</td>\n",
       "      <td>JEMIYO</td>\n",
       "      <td>7iD68JrDgIOYagCu0r1oCK</td>\n",
       "      <td>Kilode</td>\n",
       "    </tr>\n",
       "    <tr>\n",
       "      <th>2</th>\n",
       "      <td>3aS15wWCmzXkFRIvbu2KUd</td>\n",
       "      <td>Eva Rapdiva</td>\n",
       "      <td>0xdYdzu9XSwKTRjOWWUEgS</td>\n",
       "      <td>Tudo de Novo</td>\n",
       "    </tr>\n",
       "  </tbody>\n",
       "</table>\n",
       "</div>"
      ],
      "text/plain": [
       "                artist_id    artist_name                track_id    track_name\n",
       "0  3IdBTyWXb31wzm0OYIZVP3  Naty Hrychová  1yFp9g9qSDKcX78YsznBsS     Overdosed\n",
       "1  6uQH4UQMMq9H6Fxd97rXlK         JEMIYO  7iD68JrDgIOYagCu0r1oCK        Kilode\n",
       "2  3aS15wWCmzXkFRIvbu2KUd    Eva Rapdiva  0xdYdzu9XSwKTRjOWWUEgS  Tudo de Novo"
      ]
     },
     "metadata": {},
     "output_type": "display_data"
    }
   ],
   "source": [
    "print('Here are recommendations for you !')\n",
    "display(tracks_recommendation_random)"
   ]
  },
  {
   "cell_type": "code",
   "execution_count": 11,
   "metadata": {},
   "outputs": [
    {
     "data": {
      "text/html": [
       "\n",
       "        <iframe\n",
       "            width=\"320\"\n",
       "            height=\"80\"\n",
       "            src=\"https://open.spotify.com/embed/track/1yFp9g9qSDKcX78YsznBsS?frameborder=0&allowtransparency=true&allow=encrypted-media\"\n",
       "            frameborder=\"0\"\n",
       "            allowfullscreen\n",
       "            \n",
       "        ></iframe>\n",
       "        "
      ],
      "text/plain": [
       "<IPython.lib.display.IFrame at 0x234fdb5e4b0>"
      ]
     },
     "execution_count": 11,
     "metadata": {},
     "output_type": "execute_result"
    }
   ],
   "source": [
    "track_id_recommendation = list(tracks_recommendation_random['track_id'])\n",
    "mf.play_song(track_id_recommendation[0])"
   ]
  },
  {
   "cell_type": "code",
   "execution_count": 12,
   "metadata": {},
   "outputs": [
    {
     "data": {
      "text/html": [
       "\n",
       "        <iframe\n",
       "            width=\"320\"\n",
       "            height=\"80\"\n",
       "            src=\"https://open.spotify.com/embed/track/7iD68JrDgIOYagCu0r1oCK?frameborder=0&allowtransparency=true&allow=encrypted-media\"\n",
       "            frameborder=\"0\"\n",
       "            allowfullscreen\n",
       "            \n",
       "        ></iframe>\n",
       "        "
      ],
      "text/plain": [
       "<IPython.lib.display.IFrame at 0x234dd834380>"
      ]
     },
     "execution_count": 12,
     "metadata": {},
     "output_type": "execute_result"
    }
   ],
   "source": [
    "mf.play_song(track_id_recommendation[1])"
   ]
  },
  {
   "cell_type": "code",
   "execution_count": 13,
   "metadata": {},
   "outputs": [
    {
     "data": {
      "text/html": [
       "\n",
       "        <iframe\n",
       "            width=\"320\"\n",
       "            height=\"80\"\n",
       "            src=\"https://open.spotify.com/embed/track/0xdYdzu9XSwKTRjOWWUEgS?frameborder=0&allowtransparency=true&allow=encrypted-media\"\n",
       "            frameborder=\"0\"\n",
       "            allowfullscreen\n",
       "            \n",
       "        ></iframe>\n",
       "        "
      ],
      "text/plain": [
       "<IPython.lib.display.IFrame at 0x234fbe2b980>"
      ]
     },
     "execution_count": 13,
     "metadata": {},
     "output_type": "execute_result"
    }
   ],
   "source": [
    "mf.play_song(track_id_recommendation[2])"
   ]
  },
  {
   "cell_type": "markdown",
   "metadata": {},
   "source": [
    "## try another model (km200)"
   ]
  },
  {
   "cell_type": "code",
   "execution_count": 14,
   "metadata": {},
   "outputs": [
    {
     "data": {
      "text/plain": [
       "177"
      ]
     },
     "execution_count": 14,
     "metadata": {},
     "output_type": "execute_result"
    }
   ],
   "source": [
    "user_cluster2 = mf.user_predict_km200(user_features)\n",
    "user_cluster2"
   ]
  },
  {
   "cell_type": "code",
   "execution_count": 15,
   "metadata": {},
   "outputs": [
    {
     "data": {
      "text/html": [
       "<div>\n",
       "<style scoped>\n",
       "    .dataframe tbody tr th:only-of-type {\n",
       "        vertical-align: middle;\n",
       "    }\n",
       "\n",
       "    .dataframe tbody tr th {\n",
       "        vertical-align: top;\n",
       "    }\n",
       "\n",
       "    .dataframe thead th {\n",
       "        text-align: right;\n",
       "    }\n",
       "</style>\n",
       "<table border=\"1\" class=\"dataframe\">\n",
       "  <thead>\n",
       "    <tr style=\"text-align: right;\">\n",
       "      <th></th>\n",
       "      <th>artist_id</th>\n",
       "      <th>artist_name</th>\n",
       "      <th>track_id</th>\n",
       "      <th>track_name</th>\n",
       "    </tr>\n",
       "  </thead>\n",
       "  <tbody>\n",
       "    <tr>\n",
       "      <th>0</th>\n",
       "      <td>5Od5IwIPUgfunOlyI5W5OG</td>\n",
       "      <td>Deejaykgosi</td>\n",
       "      <td>0AtUfScqL8UjpRGI2Mt4BI</td>\n",
       "      <td>Ngizwile</td>\n",
       "    </tr>\n",
       "    <tr>\n",
       "      <th>1</th>\n",
       "      <td>5Rl15oVamLq7FbSb0NNBNy</td>\n",
       "      <td>5 Seconds of Summer</td>\n",
       "      <td>5EqlEvrylr3DNy3R11Kmrz</td>\n",
       "      <td>Youngblood - Acoustic</td>\n",
       "    </tr>\n",
       "    <tr>\n",
       "      <th>2</th>\n",
       "      <td>3xXc3HqSb7Ynfs9cXnW05i</td>\n",
       "      <td>Francis White</td>\n",
       "      <td>6Uul4W30lkZRLqIdAlQAbe</td>\n",
       "      <td>Bullets and Flowers - Main Theme</td>\n",
       "    </tr>\n",
       "  </tbody>\n",
       "</table>\n",
       "</div>"
      ],
      "text/plain": [
       "                artist_id          artist_name                track_id  \\\n",
       "0  5Od5IwIPUgfunOlyI5W5OG          Deejaykgosi  0AtUfScqL8UjpRGI2Mt4BI   \n",
       "1  5Rl15oVamLq7FbSb0NNBNy  5 Seconds of Summer  5EqlEvrylr3DNy3R11Kmrz   \n",
       "2  3xXc3HqSb7Ynfs9cXnW05i        Francis White  6Uul4W30lkZRLqIdAlQAbe   \n",
       "\n",
       "                         track_name  \n",
       "0                          Ngizwile  \n",
       "1             Youngblood - Acoustic  \n",
       "2  Bullets and Flowers - Main Theme  "
      ]
     },
     "metadata": {},
     "output_type": "display_data"
    },
    {
     "data": {
      "text/html": [
       "<div>\n",
       "<style scoped>\n",
       "    .dataframe tbody tr th:only-of-type {\n",
       "        vertical-align: middle;\n",
       "    }\n",
       "\n",
       "    .dataframe tbody tr th {\n",
       "        vertical-align: top;\n",
       "    }\n",
       "\n",
       "    .dataframe thead th {\n",
       "        text-align: right;\n",
       "    }\n",
       "</style>\n",
       "<table border=\"1\" class=\"dataframe\">\n",
       "  <thead>\n",
       "    <tr style=\"text-align: right;\">\n",
       "      <th></th>\n",
       "      <th>artist_id</th>\n",
       "      <th>artist_name</th>\n",
       "      <th>track_id</th>\n",
       "      <th>track_name</th>\n",
       "    </tr>\n",
       "  </thead>\n",
       "  <tbody>\n",
       "    <tr>\n",
       "      <th>0</th>\n",
       "      <td>5arKwJZEvT5uKq4o0JfqR4</td>\n",
       "      <td>Isabel LaRosa</td>\n",
       "      <td>75EIDyYc0excxUOzold15R</td>\n",
       "      <td>older sped up</td>\n",
       "    </tr>\n",
       "    <tr>\n",
       "      <th>1</th>\n",
       "      <td>4qU7IJSReZnsLy5907Mtau</td>\n",
       "      <td>Richy Mitch &amp; The Coal Miners</td>\n",
       "      <td>1XHTJ2n4ajw9dDzuPGY4Rm</td>\n",
       "      <td>Signal Sender</td>\n",
       "    </tr>\n",
       "    <tr>\n",
       "      <th>2</th>\n",
       "      <td>3ZSbXArE6mxOleJnsumK4u</td>\n",
       "      <td>eAeon</td>\n",
       "      <td>6KE3Fs6LMzi4hJI3eFqyLC</td>\n",
       "      <td>Don't (feat. RM)</td>\n",
       "    </tr>\n",
       "  </tbody>\n",
       "</table>\n",
       "</div>"
      ],
      "text/plain": [
       "                artist_id                    artist_name  \\\n",
       "0  5arKwJZEvT5uKq4o0JfqR4                  Isabel LaRosa   \n",
       "1  4qU7IJSReZnsLy5907Mtau  Richy Mitch & The Coal Miners   \n",
       "2  3ZSbXArE6mxOleJnsumK4u                          eAeon   \n",
       "\n",
       "                 track_id        track_name  \n",
       "0  75EIDyYc0excxUOzold15R     older sped up  \n",
       "1  1XHTJ2n4ajw9dDzuPGY4Rm     Signal Sender  \n",
       "2  6KE3Fs6LMzi4hJI3eFqyLC  Don't (feat. RM)  "
      ]
     },
     "metadata": {},
     "output_type": "display_data"
    }
   ],
   "source": [
    "tracks_recommendation_random2 = mf.recommendation2(user_cluster2)"
   ]
  },
  {
   "cell_type": "code",
   "execution_count": 16,
   "metadata": {},
   "outputs": [
    {
     "data": {
      "text/html": [
       "\n",
       "        <iframe\n",
       "            width=\"320\"\n",
       "            height=\"80\"\n",
       "            src=\"https://open.spotify.com/embed/track/75EIDyYc0excxUOzold15R?frameborder=0&allowtransparency=true&allow=encrypted-media\"\n",
       "            frameborder=\"0\"\n",
       "            allowfullscreen\n",
       "            \n",
       "        ></iframe>\n",
       "        "
      ],
      "text/plain": [
       "<IPython.lib.display.IFrame at 0x234fdbccdd0>"
      ]
     },
     "execution_count": 16,
     "metadata": {},
     "output_type": "execute_result"
    }
   ],
   "source": [
    "track_id_recommendation2 = list(tracks_recommendation_random2['track_id'])\n",
    "mf.play_song(track_id_recommendation2[0])"
   ]
  },
  {
   "cell_type": "code",
   "execution_count": 17,
   "metadata": {},
   "outputs": [
    {
     "data": {
      "text/html": [
       "\n",
       "        <iframe\n",
       "            width=\"320\"\n",
       "            height=\"80\"\n",
       "            src=\"https://open.spotify.com/embed/track/1XHTJ2n4ajw9dDzuPGY4Rm?frameborder=0&allowtransparency=true&allow=encrypted-media\"\n",
       "            frameborder=\"0\"\n",
       "            allowfullscreen\n",
       "            \n",
       "        ></iframe>\n",
       "        "
      ],
      "text/plain": [
       "<IPython.lib.display.IFrame at 0x234fddf2db0>"
      ]
     },
     "execution_count": 17,
     "metadata": {},
     "output_type": "execute_result"
    }
   ],
   "source": [
    "mf.play_song(track_id_recommendation2[1])"
   ]
  },
  {
   "cell_type": "code",
   "execution_count": 18,
   "metadata": {},
   "outputs": [
    {
     "data": {
      "text/html": [
       "\n",
       "        <iframe\n",
       "            width=\"320\"\n",
       "            height=\"80\"\n",
       "            src=\"https://open.spotify.com/embed/track/6KE3Fs6LMzi4hJI3eFqyLC?frameborder=0&allowtransparency=true&allow=encrypted-media\"\n",
       "            frameborder=\"0\"\n",
       "            allowfullscreen\n",
       "            \n",
       "        ></iframe>\n",
       "        "
      ],
      "text/plain": [
       "<IPython.lib.display.IFrame at 0x234fc9a2e70>"
      ]
     },
     "execution_count": 18,
     "metadata": {},
     "output_type": "execute_result"
    }
   ],
   "source": [
    "mf.play_song(track_id_recommendation2[2])"
   ]
  }
 ],
 "metadata": {
  "kernelspec": {
   "display_name": "Python 3",
   "language": "python",
   "name": "python3"
  },
  "language_info": {
   "codemirror_mode": {
    "name": "ipython",
    "version": 3
   },
   "file_extension": ".py",
   "mimetype": "text/x-python",
   "name": "python",
   "nbconvert_exporter": "python",
   "pygments_lexer": "ipython3",
   "version": "3.12.0"
  }
 },
 "nbformat": 4,
 "nbformat_minor": 2
}
